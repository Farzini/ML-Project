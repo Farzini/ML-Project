{
 "cells": [
  {
   "cell_type": "code",
   "execution_count": 1,
   "id": "4860fc11",
   "metadata": {},
   "outputs": [],
   "source": [
    "import numpy as np\n",
    "import pandas as pd\n",
    "from sklearn.preprocessing import StandardScaler\n",
    "from imblearn.over_sampling import RandomOverSampler\n",
    "from sklearn.model_selection import train_test_split\n",
    "import tensorflow as tf\n",
    "from tensorflow import keras\n",
    "from sklearn.metrics import confusion_matrix, classification_report\n",
    "from collections import Counter\n",
    "from scipy.ndimage import convolve1d\n",
    "import utils\n",
    "import torch\n",
    "from sklearn.preprocessing import LabelEncoder\n",
    "from imblearn.over_sampling import SMOTE\n",
    "from matplotlib import pyplot\n",
    "\n",
    "\n"
   ]
  },
  {
   "cell_type": "code",
   "execution_count": 2,
   "id": "b2906cc6",
   "metadata": {},
   "outputs": [],
   "source": [
    "cols = [\"fix_acidity\", \"vol_acidity\", \"critic_acidity\", \"res_sugar\", \"chloride\", \"free_SO2\", \"tot_SO2\", \"density\", \"pH\",\"sulphate\", \"alcohol\", \"class\"] # Quality is class\n",
    "\n",
    "df = pd.read_csv(\"winequality-red.csv\", names = cols, delimiter=\";\", header=0)\n",
    "\n",
    "\n",
    "#df = df.loc[:, ['fix_acidity', 'vol_acidity', 'critic_acidity', 'alcohol','class']]\n",
    "\n",
    "\n"
   ]
  },
  {
   "cell_type": "code",
   "execution_count": 3,
   "id": "42d1c22b",
   "metadata": {},
   "outputs": [],
   "source": [
    "#change data type to value\n",
    "data = df.values"
   ]
  },
  {
   "cell_type": "code",
   "execution_count": 4,
   "id": "d870749f",
   "metadata": {},
   "outputs": [],
   "source": [
    "#separating the X, y. They are the class and atributes and should be separated for the rest of the calculations.\n",
    "X, y = data[:, :-1], data[:, -1]\n",
    "scaler = StandardScaler()\n",
    "X = scaler.fit_transform(X)\n",
    "\n",
    "\n",
    "\n",
    "\n",
    "\n"
   ]
  },
  {
   "cell_type": "code",
   "execution_count": 5,
   "id": "35f3dcf0",
   "metadata": {},
   "outputs": [],
   "source": [
    "#we do necessary changes for the oversampling method SMOTE, since data is imbalanced.\n",
    "y = LabelEncoder().fit_transform(y)"
   ]
  },
  {
   "cell_type": "code",
   "execution_count": 6,
   "id": "bc008bf6",
   "metadata": {},
   "outputs": [],
   "source": [
    "oversample = SMOTE()\n",
    "X, y = oversample.fit_resample(X, y)\n",
    "\n",
    "\n",
    "\n"
   ]
  },
  {
   "cell_type": "code",
   "execution_count": 7,
   "id": "2d191454",
   "metadata": {},
   "outputs": [],
   "source": [
    "counter = Counter(y)\n"
   ]
  },
  {
   "cell_type": "code",
   "execution_count": 8,
   "id": "b6682013",
   "metadata": {},
   "outputs": [
    {
     "name": "stdout",
     "output_type": "stream",
     "text": [
      "Class=2, n=681 (16.667%)\n",
      "Class=3, n=681 (16.667%)\n",
      "Class=4, n=681 (16.667%)\n",
      "Class=1, n=681 (16.667%)\n",
      "Class=5, n=681 (16.667%)\n",
      "Class=0, n=681 (16.667%)\n"
     ]
    },
    {
     "data": {
      "image/png": "[encoded data removed]",
      "text/plain": [
       "<Figure size 640x480 with 1 Axes>"
      ]
     },
     "metadata": {},
     "output_type": "display_data"
    }
   ],
   "source": [
    "#the data becomes balanced, we just have the class from 3 to 8 available data.\n",
    "#This data is shown by 0 to 5 (6 classes) in the x-axis, y-axis number of instances\n",
    "\n",
    "for k,v in counter.items():\n",
    "\tper = v / len(y) * 100\n",
    "\tprint('Class=%d, n=%d (%.3f%%)' % (k, v, per))\n",
    "# plot the distribution\n",
    "pyplot.bar(counter.keys(), counter.values())\n",
    "pyplot.show()"
   ]
  },
  {
   "cell_type": "code",
   "execution_count": 9,
   "id": "f8a3f003",
   "metadata": {
    "scrolled": true
   },
   "outputs": [
    {
     "data": {
      "text/plain": [
       "(4086,)"
      ]
     },
     "execution_count": 9,
     "metadata": {},
     "output_type": "execute_result"
    }
   ],
   "source": [
    "y.shape"
   ]
  },
  {
   "cell_type": "code",
   "execution_count": 10,
   "id": "084d17ef",
   "metadata": {
    "scrolled": true
   },
   "outputs": [
    {
     "data": {
      "text/plain": [
       "array([[-0.52835961,  0.96187667, -1.39147228, ...,  1.28864292,\n",
       "        -0.57920652, -0.96024611],\n",
       "       [-0.29854743,  1.96744245, -1.39147228, ..., -0.7199333 ,\n",
       "         0.1289504 , -0.58477711],\n",
       "       [-0.29854743,  1.29706527, -1.18607043, ..., -0.33117661,\n",
       "        -0.04808883, -0.58477711],\n",
       "       ...,\n",
       "       [-1.59909712,  0.51927818, -1.20011386, ...,  1.36506949,\n",
       "         0.95513348,  2.98256802],\n",
       "       [-0.61134638, -0.85683275,  0.1861276 , ..., -0.50755641,\n",
       "         0.50269691,  0.84930665],\n",
       "       [ 1.29892784, -0.69090177,  1.23616918, ..., -0.54372858,\n",
       "         0.73995115,  2.2541353 ]])"
      ]
     },
     "execution_count": 10,
     "metadata": {},
     "output_type": "execute_result"
    }
   ],
   "source": [
    "X"
   ]
  },
  {
   "cell_type": "code",
   "execution_count": 11,
   "id": "fd741370",
   "metadata": {},
   "outputs": [],
   "source": [
    "import matplotlib.pyplot as plt\n"
   ]
  },
  {
   "cell_type": "code",
   "execution_count": 12,
   "id": "251088c5",
   "metadata": {},
   "outputs": [
    {
     "name": "stdout",
     "output_type": "stream",
     "text": [
      "[2 2 2 ... 5 5 5]\n"
     ]
    }
   ],
   "source": [
    "#we start the neural network method\n",
    "#encode to numpy array\n",
    "\n",
    "\n",
    "from keras.utils import np_utils\n",
    "\n",
    "\n",
    "encoder = LabelEncoder()\n",
    "encoder.fit(y)\n",
    "encoded_Y = encoder.transform(y)\n",
    "# convert integers to dummy variables (i.e. one hot encoded)\n",
    "dummy_y = np_utils.to_categorical(encoded_Y)\n",
    "\n",
    "print(encoded_Y)"
   ]
  },
  {
   "cell_type": "code",
   "execution_count": 13,
   "id": "d9752d57",
   "metadata": {},
   "outputs": [],
   "source": [
    "#optimizer can be Adam \n",
    "#loss function should be categorical_crossentropy\n",
    "#EarlyStopping callbacks to prevent overfitting\n",
    "\n",
    "from keras.wrappers.scikit_learn import KerasClassifier\n",
    "from keras.utils import np_utils\n",
    "\n",
    "# for modeling\n",
    "from keras.models import Sequential\n",
    "from keras.layers import Dense, Dropout\n",
    "from keras.callbacks import EarlyStopping"
   ]
  },
  {
   "cell_type": "code",
   "execution_count": 14,
   "id": "67d17e1f",
   "metadata": {
    "scrolled": true
   },
   "outputs": [
    {
     "data": {
      "text/plain": [
       "array([[0., 1., 0., 0., 0., 0.],\n",
       "       [0., 1., 0., 0., 0., 0.],\n",
       "       [0., 0., 1., 0., 0., 0.],\n",
       "       ...,\n",
       "       [0., 0., 0., 0., 1., 0.],\n",
       "       [0., 0., 0., 1., 0., 0.],\n",
       "       [0., 0., 1., 0., 0., 0.]], dtype=float32)"
      ]
     },
     "execution_count": 14,
     "metadata": {},
     "output_type": "execute_result"
    }
   ],
   "source": [
    "#######\n",
    "#######\n",
    "####### We convert back the oversampled data to dataframe to devide it to test and train sample\n",
    "X = pd.DataFrame(X)\n",
    "y = pd.DataFrame(y)\n",
    "\n",
    "df = pd.concat([X, y], axis=1)\n",
    "\n",
    "train, test = np.split(df.sample(frac = 1), [int(0.8*len(df))])\n",
    "\n",
    "\n",
    "data = train.values\n",
    "X, y = data[:, :-1], data[:, -1]\n",
    "dummy_y = np_utils.to_categorical(y)\n",
    "dummy_y\n",
    "\n",
    "\n",
    "\n",
    "\n"
   ]
  },
  {
   "cell_type": "code",
   "execution_count": 15,
   "id": "605678ba",
   "metadata": {},
   "outputs": [
    {
     "name": "stdout",
     "output_type": "stream",
     "text": [
      "Metal device set to: Apple M1\n"
     ]
    },
    {
     "name": "stderr",
     "output_type": "stream",
     "text": [
      "2022-11-17 00:43:47.070295: I tensorflow/core/common_runtime/pluggable_device/pluggable_device_factory.cc:306] Could not identify NUMA node of platform GPU ID 0, defaulting to 0. Your kernel may not have been built with NUMA support.\n",
      "2022-11-17 00:43:47.071209: I tensorflow/core/common_runtime/pluggable_device/pluggable_device_factory.cc:272] Created TensorFlow device (/job:localhost/replica:0/task:0/device:GPU:0 with 0 MB memory) -> physical PluggableDevice (device: 0, name: METAL, pci bus id: <undefined>)\n"
     ]
    },
    {
     "name": "stdout",
     "output_type": "stream",
     "text": [
      "Model: \"sequential\"\n",
      "_________________________________________________________________\n",
      " Layer (type)                Output Shape              Param #   \n",
      "=================================================================\n",
      " dense (Dense)               (None, 100)               1200      \n",
      "                                                                 \n",
      " dense_1 (Dense)             (None, 50)                5050      \n",
      "                                                                 \n",
      " dense_2 (Dense)             (None, 20)                1020      \n",
      "                                                                 \n",
      " dense_3 (Dense)             (None, 12)                252       \n",
      "                                                                 \n",
      " dense_4 (Dense)             (None, 6)                 78        \n",
      "                                                                 \n",
      "=================================================================\n",
      "Total params: 7,600\n",
      "Trainable params: 7,600\n",
      "Non-trainable params: 0\n",
      "_________________________________________________________________\n"
     ]
    }
   ],
   "source": [
    "#Neural network model contain two layers of 10 and 6 neurons\n",
    "#\n",
    "\n",
    "model = Sequential()\n",
    "model.add(Dense(100, input_shape=(X.shape[1],), activation='relu')) # input shape is (features,)\n",
    "model.add(Dense(50, input_shape=(X.shape[1],), activation='relu'))\n",
    "model.add(Dense(20, input_shape=(X.shape[1],), activation='relu'))\n",
    "model.add(Dense(12, input_shape=(X.shape[1],), activation='relu'))\n",
    "model.add(Dense(6, activation='softmax'))\n",
    "model.summary()\n",
    "\n",
    "# compile the model\n",
    "model.compile(optimizer='rmsprop', \n",
    "              loss='categorical_crossentropy', # this is different instead of binary_crossentropy (for regular classification)\n",
    "              metrics=['accuracy'])"
   ]
  },
  {
   "cell_type": "code",
   "execution_count": 16,
   "id": "95ce91e8",
   "metadata": {
    "scrolled": false
   },
   "outputs": [
    {
     "name": "stdout",
     "output_type": "stream",
     "text": [
      "Epoch 1/800000\n"
     ]
    },
    {
     "name": "stderr",
     "output_type": "stream",
     "text": [
      "2022-11-17 00:44:28.989414: W tensorflow/core/platform/profile_utils/cpu_utils.cc:128] Failed to get CPU frequency: 0 Hz\n",
      "2022-11-17 00:44:29.248212: I tensorflow/core/grappler/optimizers/custom_graph_optimizer_registry.cc:114] Plugin optimizer for device_type GPU is enabled.\n"
     ]
    },
    {
     "name": "stdout",
     "output_type": "stream",
     "text": [
      "262/262 [==============================] - ETA: 0s - loss: 1.4192 - accuracy: 0.4155"
     ]
    },
    {
     "name": "stderr",
     "output_type": "stream",
     "text": [
      "2022-11-17 00:44:34.948801: I tensorflow/core/grappler/optimizers/custom_graph_optimizer_registry.cc:114] Plugin optimizer for device_type GPU is enabled.\n"
     ]
    },
    {
     "name": "stdout",
     "output_type": "stream",
     "text": [
      "262/262 [==============================] - 6s 15ms/step - loss: 1.4192 - accuracy: 0.4155 - val_loss: 1.1548 - val_accuracy: 0.5168\n",
      "Epoch 2/800000\n",
      "262/262 [==============================] - 3s 13ms/step - loss: 1.0175 - accuracy: 0.5811 - val_loss: 0.9778 - val_accuracy: 0.5795\n",
      "Epoch 3/800000\n",
      "262/262 [==============================] - 3s 13ms/step - loss: 0.8937 - accuracy: 0.6500 - val_loss: 0.9558 - val_accuracy: 0.5917\n",
      "Epoch 4/800000\n",
      "262/262 [==============================] - 3s 13ms/step - loss: 0.8161 - accuracy: 0.6863 - val_loss: 0.8012 - val_accuracy: 0.6774\n",
      "Epoch 5/800000\n",
      "262/262 [==============================] - 3s 13ms/step - loss: 0.7538 - accuracy: 0.7154 - val_loss: 0.7397 - val_accuracy: 0.6957\n",
      "Epoch 6/800000\n",
      "262/262 [==============================] - 4s 14ms/step - loss: 0.7048 - accuracy: 0.7341 - val_loss: 0.6936 - val_accuracy: 0.7217\n",
      "Epoch 7/800000\n",
      "262/262 [==============================] - 3s 13ms/step - loss: 0.6682 - accuracy: 0.7402 - val_loss: 0.6777 - val_accuracy: 0.7324\n",
      "Epoch 8/800000\n",
      "262/262 [==============================] - 3s 13ms/step - loss: 0.6304 - accuracy: 0.7536 - val_loss: 0.7626 - val_accuracy: 0.6453\n",
      "Epoch 9/800000\n",
      "262/262 [==============================] - 4s 13ms/step - loss: 0.5991 - accuracy: 0.7678 - val_loss: 0.6554 - val_accuracy: 0.7294\n",
      "Epoch 10/800000\n",
      "262/262 [==============================] - 3s 13ms/step - loss: 0.5793 - accuracy: 0.7777 - val_loss: 0.6125 - val_accuracy: 0.7294\n",
      "Epoch 11/800000\n",
      "262/262 [==============================] - 3s 13ms/step - loss: 0.5557 - accuracy: 0.7819 - val_loss: 0.5723 - val_accuracy: 0.7554\n",
      "Epoch 12/800000\n",
      "262/262 [==============================] - 3s 13ms/step - loss: 0.5369 - accuracy: 0.7934 - val_loss: 0.5791 - val_accuracy: 0.7584\n",
      "Epoch 13/800000\n",
      "262/262 [==============================] - 3s 13ms/step - loss: 0.5178 - accuracy: 0.7930 - val_loss: 0.5617 - val_accuracy: 0.7569\n",
      "Epoch 14/800000\n",
      "262/262 [==============================] - 3s 13ms/step - loss: 0.5075 - accuracy: 0.8011 - val_loss: 0.5536 - val_accuracy: 0.7569\n",
      "Epoch 15/800000\n",
      "262/262 [==============================] - 3s 13ms/step - loss: 0.4969 - accuracy: 0.8041 - val_loss: 0.5602 - val_accuracy: 0.7599\n",
      "Epoch 16/800000\n",
      "262/262 [==============================] - 3s 13ms/step - loss: 0.4763 - accuracy: 0.8118 - val_loss: 0.5526 - val_accuracy: 0.7676\n",
      "Epoch 17/800000\n",
      "262/262 [==============================] - 3s 13ms/step - loss: 0.4597 - accuracy: 0.8141 - val_loss: 0.5474 - val_accuracy: 0.7706\n",
      "Epoch 18/800000\n",
      "262/262 [==============================] - 3s 13ms/step - loss: 0.4501 - accuracy: 0.8156 - val_loss: 0.5960 - val_accuracy: 0.7416\n",
      "Epoch 19/800000\n",
      "262/262 [==============================] - 3s 13ms/step - loss: 0.4330 - accuracy: 0.8256 - val_loss: 0.5692 - val_accuracy: 0.7676\n",
      "Epoch 20/800000\n",
      "262/262 [==============================] - 3s 13ms/step - loss: 0.4275 - accuracy: 0.8321 - val_loss: 0.5635 - val_accuracy: 0.7615\n",
      "Epoch 21/800000\n",
      "262/262 [==============================] - 3s 13ms/step - loss: 0.4139 - accuracy: 0.8344 - val_loss: 0.5261 - val_accuracy: 0.7768\n",
      "Epoch 22/800000\n",
      "262/262 [==============================] - 3s 13ms/step - loss: 0.4047 - accuracy: 0.8374 - val_loss: 0.4847 - val_accuracy: 0.7997\n",
      "Epoch 23/800000\n",
      "262/262 [==============================] - 3s 13ms/step - loss: 0.3909 - accuracy: 0.8420 - val_loss: 0.5045 - val_accuracy: 0.7920\n",
      "Epoch 24/800000\n",
      "262/262 [==============================] - 3s 13ms/step - loss: 0.3848 - accuracy: 0.8466 - val_loss: 0.4817 - val_accuracy: 0.8043\n",
      "Epoch 25/800000\n",
      "262/262 [==============================] - 3s 13ms/step - loss: 0.3729 - accuracy: 0.8508 - val_loss: 0.4952 - val_accuracy: 0.7951\n",
      "Epoch 26/800000\n",
      "262/262 [==============================] - 3s 13ms/step - loss: 0.3642 - accuracy: 0.8569 - val_loss: 0.5058 - val_accuracy: 0.8119\n",
      "Epoch 27/800000\n",
      "262/262 [==============================] - 4s 14ms/step - loss: 0.3506 - accuracy: 0.8573 - val_loss: 0.5345 - val_accuracy: 0.7966\n",
      "Epoch 28/800000\n",
      "262/262 [==============================] - 4s 14ms/step - loss: 0.3422 - accuracy: 0.8611 - val_loss: 0.5007 - val_accuracy: 0.8058\n",
      "Epoch 29/800000\n",
      "262/262 [==============================] - 3s 13ms/step - loss: 0.3329 - accuracy: 0.8715 - val_loss: 0.5344 - val_accuracy: 0.8043\n",
      "Epoch 30/800000\n",
      "262/262 [==============================] - 3s 13ms/step - loss: 0.3253 - accuracy: 0.8806 - val_loss: 0.5203 - val_accuracy: 0.8135\n",
      "Epoch 31/800000\n",
      "262/262 [==============================] - 3s 13ms/step - loss: 0.3211 - accuracy: 0.8722 - val_loss: 0.4469 - val_accuracy: 0.8257\n",
      "Epoch 32/800000\n",
      "262/262 [==============================] - 3s 13ms/step - loss: 0.3102 - accuracy: 0.8868 - val_loss: 0.4825 - val_accuracy: 0.8150\n",
      "Epoch 33/800000\n",
      "262/262 [==============================] - 3s 13ms/step - loss: 0.3063 - accuracy: 0.8849 - val_loss: 0.4714 - val_accuracy: 0.8165\n",
      "Epoch 34/800000\n",
      "262/262 [==============================] - 4s 13ms/step - loss: 0.2996 - accuracy: 0.8829 - val_loss: 0.5015 - val_accuracy: 0.8226\n",
      "Epoch 35/800000\n",
      "262/262 [==============================] - 3s 13ms/step - loss: 0.2923 - accuracy: 0.8906 - val_loss: 0.4876 - val_accuracy: 0.8226\n",
      "Epoch 36/800000\n",
      "262/262 [==============================] - 3s 13ms/step - loss: 0.2805 - accuracy: 0.8921 - val_loss: 0.5578 - val_accuracy: 0.7951\n",
      "Epoch 37/800000\n",
      "262/262 [==============================] - 3s 13ms/step - loss: 0.2757 - accuracy: 0.8948 - val_loss: 0.4929 - val_accuracy: 0.8165\n",
      "Epoch 38/800000\n",
      "262/262 [==============================] - 3s 13ms/step - loss: 0.2758 - accuracy: 0.8894 - val_loss: 0.5532 - val_accuracy: 0.7813\n",
      "Epoch 39/800000\n",
      "262/262 [==============================] - 4s 13ms/step - loss: 0.2702 - accuracy: 0.9017 - val_loss: 0.4897 - val_accuracy: 0.8180\n",
      "Epoch 40/800000\n",
      "262/262 [==============================] - 3s 13ms/step - loss: 0.2579 - accuracy: 0.9005 - val_loss: 0.4533 - val_accuracy: 0.8287\n",
      "Epoch 41/800000\n",
      "262/262 [==============================] - 4s 13ms/step - loss: 0.2571 - accuracy: 0.9028 - val_loss: 0.4857 - val_accuracy: 0.8180\n"
     ]
    }
   ],
   "source": [
    "#imply learning\n",
    "\n",
    "import keras\n",
    "from keras.callbacks import EarlyStopping\n",
    "\n",
    "# early stopping callback\n",
    "# This callback will stop the training when there is no improvement in  \n",
    "# the validation loss for 10 consecutive epochs.  \n",
    "es = keras.callbacks.EarlyStopping(monitor='val_loss', \n",
    "                                   mode='min',\n",
    "                                   patience=10, \n",
    "                                   restore_best_weights=True) # important - otherwise you just return the last weigths...\n",
    "\n",
    "# now we just update our model fit call\n",
    "history = model.fit(X,\n",
    "                    dummy_y,\n",
    "                    callbacks=[es],\n",
    "                    epochs=800000, # you can set this to a big number!\n",
    "                    batch_size=10,\n",
    "                    shuffle=True,\n",
    "                    validation_split=0.2,\n",
    "                    verbose=1)"
   ]
  },
  {
   "cell_type": "code",
   "execution_count": 17,
   "id": "05e8ebe2",
   "metadata": {
    "scrolled": true
   },
   "outputs": [
    {
     "data": {
      "image/png": "[encoded data removed]",
      "text/plain": [
       "<Figure size 640x480 with 1 Axes>"
      ]
     },
     "metadata": {},
     "output_type": "display_data"
    }
   ],
   "source": [
    "#check the train and test\n",
    "\n",
    "import matplotlib.pyplot as plt\n",
    "\n",
    "history_dict = history.history\n",
    "\n",
    "# learning curve\n",
    "# accuracy\n",
    "acc = history_dict['accuracy']\n",
    "val_acc = history_dict['val_accuracy']\n",
    "\n",
    "# loss\n",
    "loss = history_dict['loss']\n",
    "val_loss = history_dict['val_loss']\n",
    "\n",
    "# range of X (no. of epochs)\n",
    "epochs = range(1, len(acc) + 1)\n",
    "\n",
    "# plot\n",
    "# \"r\" is for \"solid red line\"\n",
    "plt.plot(epochs, acc, 'r', label='Training accuracy')\n",
    "# b is for \"solid blue line\"\n",
    "plt.plot(epochs, val_acc, 'b', label='Validation accuracy')\n",
    "plt.title('Training and validation accuracy')\n",
    "plt.xlabel('Epochs')\n",
    "plt.ylabel('Accuracy')\n",
    "plt.legend()\n",
    "\n",
    "plt.show()"
   ]
  },
  {
   "cell_type": "code",
   "execution_count": 18,
   "id": "a513de7a",
   "metadata": {},
   "outputs": [
    {
     "data": {
      "text/plain": [
       "array([[0., 0., 1., 0., 0., 0.],\n",
       "       [0., 1., 0., 0., 0., 0.],\n",
       "       [0., 0., 0., 0., 0., 1.],\n",
       "       ...,\n",
       "       [1., 0., 0., 0., 0., 0.],\n",
       "       [1., 0., 0., 0., 0., 0.],\n",
       "       [0., 0., 0., 1., 0., 0.]], dtype=float32)"
      ]
     },
     "execution_count": 18,
     "metadata": {},
     "output_type": "execute_result"
    }
   ],
   "source": [
    "#Change X and y to the test\n",
    "\n",
    "\n",
    "\n",
    "from sklearn.metrics import confusion_matrix\n",
    "from sklearn.metrics import classification_report\n",
    "\n",
    "data = test.values\n",
    "X, y = data[:, :-1], data[:, -1]\n",
    "dummy_y = np_utils.to_categorical(y)\n",
    "dummy_y\n"
   ]
  },
  {
   "cell_type": "code",
   "execution_count": 19,
   "id": "1bd09ebd",
   "metadata": {},
   "outputs": [
    {
     "name": "stdout",
     "output_type": "stream",
     "text": [
      "\r",
      " 1/26 [>.............................] - ETA: 6s"
     ]
    },
    {
     "name": "stderr",
     "output_type": "stream",
     "text": [
      "2022-11-17 00:49:11.134794: I tensorflow/core/grappler/optimizers/custom_graph_optimizer_registry.cc:114] Plugin optimizer for device_type GPU is enabled.\n"
     ]
    },
    {
     "name": "stdout",
     "output_type": "stream",
     "text": [
      "26/26 [==============================] - 0s 3ms/step\n",
      "[2.4791766e-12 8.4944572e-03 9.4523883e-01 4.6259731e-02 6.9401003e-06\n",
      " 6.6992895e-16]\n",
      "0.9999999\n",
      "              precision    recall  f1-score   support\n",
      "\n",
      "           0       0.99      1.00      0.99       142\n",
      "           1       0.91      0.95      0.93       140\n",
      "           2       0.55      0.72      0.62       134\n",
      "           3       0.66      0.41      0.50       145\n",
      "           4       0.81      0.82      0.81       130\n",
      "           5       0.95      1.00      0.98       127\n",
      "\n",
      "    accuracy                           0.81       818\n",
      "   macro avg       0.81      0.81      0.81       818\n",
      "weighted avg       0.81      0.81      0.80       818\n",
      "\n"
     ]
    }
   ],
   "source": [
    "#detail info, need to be studied\n",
    "\n",
    "from sklearn.metrics import confusion_matrix\n",
    "from sklearn.metrics import classification_report\n",
    "\n",
    "\n",
    "\n",
    "\n",
    "preds = model.predict(X) # see how the model did!\n",
    "print(preds[0]) # i'm spreading that prediction across three nodes and they sum to 1\n",
    "print(np.sum(preds[0])) # sum it up! Should be 1\n",
    "## [9.9999988e-01 1.3509347e-07 6.7064638e-16]\n",
    "## 1.0\n",
    "\n",
    "# Almost a perfect prediction\n",
    "# actual is left, predicted is top\n",
    "# names can be found by inspecting Y\n",
    "matrix = confusion_matrix(dummy_y.argmax(axis=1), preds.argmax(axis=1))\n",
    "matrix\n",
    "## array([[50,  0,  0],\n",
    "##        [ 0, 46,  4],\n",
    "##        [ 0,  1, 49]])\n",
    "\n",
    "\n",
    "# more detail on how well things were predicted\n",
    "print(classification_report(dummy_y.argmax(axis=1), preds.argmax(axis=1)))"
   ]
  },
  {
   "cell_type": "code",
   "execution_count": null,
   "id": "fa94cc96",
   "metadata": {},
   "outputs": [],
   "source": []
  }
 ],
 "metadata": {
  "kernelspec": {
   "display_name": "Python 3 (ipykernel)",
   "language": "python",
   "name": "python3"
  },
  "language_info": {
   "codemirror_mode": {
    "name": "ipython",
    "version": 3
   },
   "file_extension": ".py",
   "mimetype": "text/x-python",
   "name": "python",
   "nbconvert_exporter": "python",
   "pygments_lexer": "ipython3",
   "version": "3.8.13"
  }
 },
 "nbformat": 4,
 "nbformat_minor": 5
}
