{
 "cells": [
  {
   "cell_type": "code",
   "execution_count": 1,
   "id": "4860fc11",
   "metadata": {},
   "outputs": [],
   "source": [
    "import numpy as np\n",
    "import pandas as pd\n",
    "from sklearn.preprocessing import StandardScaler\n",
    "from imblearn.over_sampling import RandomOverSampler\n",
    "from sklearn.model_selection import train_test_split\n",
    "import tensorflow as tf\n",
    "from tensorflow import keras\n",
    "from sklearn.metrics import confusion_matrix, classification_report\n",
    "from collections import Counter\n",
    "from scipy.ndimage import convolve1d\n",
    "import utils\n",
    "import torch\n",
    "#from torch import utils"
   ]
  },
  {
   "cell_type": "code",
   "execution_count": 2,
   "id": "b2906cc6",
   "metadata": {},
   "outputs": [],
   "source": [
    "cols = [\"fix_acidity\", \"vol_acidity\", \"critic_acidity\", \"res_sugar\", \"chloride\", \"free_SO2\", \"tot_SO2\", \"density\", \"pH\",\"sulphate\", \"alcohol\", \"class\"] # Quality is class\n",
    "\n",
    "df = pd.read_csv(\"winequality-white.csv\", names = cols, delimiter=\";\", header=0)\n",
    "\n",
    "X = df.drop('class', axis = 'columns')\n",
    "Y = df['class']"
   ]
  },
  {
   "cell_type": "code",
   "execution_count": 3,
   "id": "b799550c",
   "metadata": {},
   "outputs": [
    {
     "data": {
      "text/plain": [
       "6    2198\n",
       "5    1457\n",
       "7     880\n",
       "8     175\n",
       "4     163\n",
       "3      20\n",
       "9       5\n",
       "Name: class, dtype: int64"
      ]
     },
     "execution_count": 3,
     "metadata": {},
     "output_type": "execute_result"
    }
   ],
   "source": [
    "df[\"class\"].value_counts()"
   ]
  },
  {
   "cell_type": "code",
   "execution_count": 4,
   "id": "663cb33f",
   "metadata": {},
   "outputs": [
    {
     "data": {
      "text/html": [
       "<div>\n",
       "<style scoped>\n",
       "    .dataframe tbody tr th:only-of-type {\n",
       "        vertical-align: middle;\n",
       "    }\n",
       "\n",
       "    .dataframe tbody tr th {\n",
       "        vertical-align: top;\n",
       "    }\n",
       "\n",
       "    .dataframe thead th {\n",
       "        text-align: right;\n",
       "    }\n",
       "</style>\n",
       "<table border=\"1\" class=\"dataframe\">\n",
       "  <thead>\n",
       "    <tr style=\"text-align: right;\">\n",
       "      <th></th>\n",
       "      <th>labels</th>\n",
       "      <th>bin</th>\n",
       "    </tr>\n",
       "  </thead>\n",
       "  <tbody>\n",
       "    <tr>\n",
       "      <th>0</th>\n",
       "      <td>0</td>\n",
       "      <td>0</td>\n",
       "    </tr>\n",
       "    <tr>\n",
       "      <th>1</th>\n",
       "      <td>1</td>\n",
       "      <td>0</td>\n",
       "    </tr>\n",
       "    <tr>\n",
       "      <th>2</th>\n",
       "      <td>2</td>\n",
       "      <td>0</td>\n",
       "    </tr>\n",
       "    <tr>\n",
       "      <th>3</th>\n",
       "      <td>3</td>\n",
       "      <td>20</td>\n",
       "    </tr>\n",
       "    <tr>\n",
       "      <th>4</th>\n",
       "      <td>4</td>\n",
       "      <td>163</td>\n",
       "    </tr>\n",
       "    <tr>\n",
       "      <th>5</th>\n",
       "      <td>5</td>\n",
       "      <td>1457</td>\n",
       "    </tr>\n",
       "    <tr>\n",
       "      <th>6</th>\n",
       "      <td>6</td>\n",
       "      <td>2198</td>\n",
       "    </tr>\n",
       "    <tr>\n",
       "      <th>7</th>\n",
       "      <td>7</td>\n",
       "      <td>880</td>\n",
       "    </tr>\n",
       "    <tr>\n",
       "      <th>8</th>\n",
       "      <td>8</td>\n",
       "      <td>175</td>\n",
       "    </tr>\n",
       "    <tr>\n",
       "      <th>9</th>\n",
       "      <td>9</td>\n",
       "      <td>5</td>\n",
       "    </tr>\n",
       "  </tbody>\n",
       "</table>\n",
       "</div>"
      ],
      "text/plain": [
       "   labels   bin\n",
       "0       0     0\n",
       "1       1     0\n",
       "2       2     0\n",
       "3       3    20\n",
       "4       4   163\n",
       "5       5  1457\n",
       "6       6  2198\n",
       "7       7   880\n",
       "8       8   175\n",
       "9       9     5"
      ]
     },
     "execution_count": 4,
     "metadata": {},
     "output_type": "execute_result"
    }
   ],
   "source": [
    "data = {'labels':[0, 1, 2, 3, 4, 5, 6, 7, 8, 9], 'bin': [0, 0, 0, 20, 163, 1457, 2198, 880, 175, 5]}\n",
    "\n",
    "bin_index_per_label = pd.DataFrame(data)\n",
    "\n",
    "bin_index_per_label"
   ]
  },
  {
   "cell_type": "code",
   "execution_count": 5,
   "id": "786003f1",
   "metadata": {},
   "outputs": [
    {
     "data": {
      "text/plain": [
       "2199"
      ]
     },
     "execution_count": 5,
     "metadata": {},
     "output_type": "execute_result"
    }
   ],
   "source": [
    "Nb = max(bin_index_per_label.bin) + 1\n",
    "Nb"
   ]
  },
  {
   "cell_type": "code",
   "execution_count": 6,
   "id": "f4fe3275",
   "metadata": {},
   "outputs": [],
   "source": [
    "\n",
    "num_samples_of_bins = dict(Counter(bin_index_per_label.bin))\n",
    "emp_label_dist = [num_samples_of_bins.get(i, 0) for i in range(Nb)]\n"
   ]
  },
  {
   "cell_type": "code",
   "execution_count": 7,
   "id": "76a51094",
   "metadata": {},
   "outputs": [],
   "source": [
    "#lds_kernel_window = get_lds_kernel_window(kernel='gaussian', ks=5, sigma=2)\n",
    "import sys\n",
    "sys.modules['utilsnew'] = utils"
   ]
  },
  {
   "cell_type": "code",
   "execution_count": 23,
   "id": "ed19a949",
   "metadata": {},
   "outputs": [],
   "source": [
    "\n",
    "def get_lds_kernel_window(kernel, ks, sigma):\n",
    "    assert kernel in ['gaussian', 'triang', 'laplace']\n",
    "    half_ks = (ks - 1) // 2\n",
    "    if kernel == 'gaussian':\n",
    "        base_kernel = [0.] * half_ks + [1.] + [0.] * half_ks\n",
    "        kernel_window = gaussian_filter1d(base_kernel, sigma=sigma) / max(gaussian_filter1d(base_kernel, sigma=sigma))\n",
    "    elif kernel == 'triang':\n",
    "        kernel_window = triang(ks)\n",
    "    else:\n",
    "        laplace = lambda x: np.exp(-abs(x) / sigma) / (2. * sigma)\n",
    "        kernel_window = list(map(laplace, np.arange(-half_ks, half_ks + 1))) / max(map(laplace, np.arange(-half_ks, half_ks + 1)))\n",
    "\n",
    "    return kernel_window"
   ]
  },
  {
   "cell_type": "code",
   "execution_count": 24,
   "id": "87e8f6e6",
   "metadata": {},
   "outputs": [],
   "source": [
    "from scipy.ndimage import gaussian_filter1d\n",
    "\n",
    "lds_kernel_window = get_lds_kernel_window(kernel='gaussian', ks=5, sigma=2)\n"
   ]
  },
  {
   "cell_type": "code",
   "execution_count": 25,
   "id": "9450068d",
   "metadata": {},
   "outputs": [],
   "source": [
    "eff_label_dist = convolve1d(np.array(emp_label_dist), weights=lds_kernel_window, mode='constant')\n"
   ]
  },
  {
   "cell_type": "code",
   "execution_count": 26,
   "id": "45cb0f24",
   "metadata": {},
   "outputs": [
    {
     "data": {
      "text/plain": [
       "array([3, 2, 2, ..., 0, 0, 1])"
      ]
     },
     "execution_count": 26,
     "metadata": {},
     "output_type": "execute_result"
    }
   ],
   "source": [
    "eff_label_dist"
   ]
  },
  {
   "cell_type": "code",
   "execution_count": 27,
   "id": "9e88a4f8",
   "metadata": {},
   "outputs": [],
   "source": [
    "#from loss import weighted_mse_loss\n",
    "\n",
    "def weighted_mse_loss(inputs, targets, weights=None):\n",
    "    loss = (inputs - targets) ** 2\n",
    "    if weights is not None:\n",
    "        loss *= weights.expand_as(loss)\n",
    "    loss = torch.mean(loss)\n",
    "    return loss\n",
    "\n",
    "\n",
    "\n",
    "\n",
    "#eff_num_per_label = [eff_label_dist[bin_idx] for bin_idx in bin_index_per_label]\n",
    "#weights = [np.float32(1 / x) for x in eff_num_per_label]"
   ]
  },
  {
   "cell_type": "code",
   "execution_count": 28,
   "id": "cb16d588",
   "metadata": {},
   "outputs": [],
   "source": [
    "eff_num_per_label = [eff_label_dist[bin_idx] for bin_idx in bin_index_per_label.bin]\n",
    "weights = [np.float32(1 / x) for x in eff_num_per_label]"
   ]
  },
  {
   "cell_type": "code",
   "execution_count": 29,
   "id": "7934b882",
   "metadata": {},
   "outputs": [
    {
     "data": {
      "text/plain": [
       "[0.33333334, 0.33333334, 0.33333334, 1.0, 1.0, 1.0, 1.0, 1.0, 1.0, 1.0]"
      ]
     },
     "execution_count": 29,
     "metadata": {},
     "output_type": "execute_result"
    }
   ],
   "source": [
    "#loss = weighted_mse_loss(preds, labels, weights=weights)\n",
    "weights"
   ]
  },
  {
   "cell_type": "code",
   "execution_count": null,
   "id": "566ccd6f",
   "metadata": {},
   "outputs": [],
   "source": []
  }
 ],
 "metadata": {
  "kernelspec": {
   "display_name": "Python 3 (ipykernel)",
   "language": "python",
   "name": "python3"
  },
  "language_info": {
   "codemirror_mode": {
    "name": "ipython",
    "version": 3
   },
   "file_extension": ".py",
   "mimetype": "text/x-python",
   "name": "python",
   "nbconvert_exporter": "python",
   "pygments_lexer": "ipython3",
   "version": "3.8.13"
  }
 },
 "nbformat": 4,
 "nbformat_minor": 5
}
