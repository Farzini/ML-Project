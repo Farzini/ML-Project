{
 "cells": [
  {
   "cell_type": "code",
   "execution_count": 72,
   "id": "4860fc11",
   "metadata": {},
   "outputs": [],
   "source": [
    "import numpy as np\n",
    "import pandas as pd\n",
    "from sklearn.preprocessing import StandardScaler\n",
    "from imblearn.over_sampling import RandomOverSampler\n",
    "from sklearn.model_selection import train_test_split\n",
    "import tensorflow as tf\n",
    "from tensorflow import keras\n",
    "from sklearn.metrics import confusion_matrix, classification_report\n",
    "from collections import Counter\n",
    "from scipy.ndimage import convolve1d\n",
    "import utils\n",
    "import torch\n"
   ]
  },
  {
   "cell_type": "code",
   "execution_count": 73,
   "id": "b2906cc6",
   "metadata": {},
   "outputs": [],
   "source": [
    "cols = [\"fix_acidity\", \"vol_acidity\", \"critic_acidity\", \"res_sugar\", \"chloride\", \"free_SO2\", \"tot_SO2\", \"density\", \"pH\",\"sulphate\", \"alcohol\", \"class\"] # Quality is class\n",
    "\n",
    "df = pd.read_csv(\"winequality-red.csv\", names = cols, delimiter=\";\", header=0)\n"
   ]
  },
  {
   "cell_type": "code",
   "execution_count": 74,
   "id": "42d1c22b",
   "metadata": {},
   "outputs": [],
   "source": [
    "#change data type to value\n",
    "data = df.values"
   ]
  },
  {
   "cell_type": "code",
   "execution_count": 20,
   "id": "d870749f",
   "metadata": {},
   "outputs": [],
   "source": [
    "#separating the X, y. They are the class and atributes and should be separated for the rest of the calculations.\n",
    "X, y = data[:, :-1], data[:, -1]"
   ]
  },
  {
   "cell_type": "code",
   "execution_count": 21,
   "id": "35f3dcf0",
   "metadata": {},
   "outputs": [],
   "source": [
    "#we do necessary changes for the oversampling method SMOTE, since data is imbalanced.\n",
    "y = LabelEncoder().fit_transform(y)"
   ]
  },
  {
   "cell_type": "code",
   "execution_count": 75,
   "id": "bc008bf6",
   "metadata": {},
   "outputs": [],
   "source": [
    "oversample = SMOTE()\n",
    "X, y = oversample.fit_resample(X, y)"
   ]
  },
  {
   "cell_type": "code",
   "execution_count": 76,
   "id": "2d191454",
   "metadata": {},
   "outputs": [],
   "source": [
    "counter = Counter(y)\n"
   ]
  },
  {
   "cell_type": "code",
   "execution_count": 77,
   "id": "b6682013",
   "metadata": {},
   "outputs": [
    {
     "name": "stdout",
     "output_type": "stream",
     "text": [
      "Class=2, n=681 (16.667%)\n",
      "Class=3, n=681 (16.667%)\n",
      "Class=4, n=681 (16.667%)\n",
      "Class=1, n=681 (16.667%)\n",
      "Class=5, n=681 (16.667%)\n",
      "Class=0, n=681 (16.667%)\n"
     ]
    },
    {
     "data": {
      "image/png": "[encoded data removed]",
      "text/plain": [
       "<Figure size 640x480 with 1 Axes>"
      ]
     },
     "metadata": {},
     "output_type": "display_data"
    }
   ],
   "source": [
    "#the data becomes balanced, we just have the class from 3 to 8 available data.\n",
    "#This data is shown by 0 to 5 (6 classes) in the x-axis, y-axis number of instances\n",
    "\n",
    "for k,v in counter.items():\n",
    "\tper = v / len(y) * 100\n",
    "\tprint('Class=%d, n=%d (%.3f%%)' % (k, v, per))\n",
    "# plot the distribution\n",
    "pyplot.bar(counter.keys(), counter.values())\n",
    "pyplot.show()"
   ]
  },
  {
   "cell_type": "code",
   "execution_count": 78,
   "id": "f8a3f003",
   "metadata": {
    "scrolled": true
   },
   "outputs": [
    {
     "data": {
      "text/plain": [
       "(4086,)"
      ]
     },
     "execution_count": 78,
     "metadata": {},
     "output_type": "execute_result"
    }
   ],
   "source": [
    "y.shape"
   ]
  },
  {
   "cell_type": "code",
   "execution_count": 79,
   "id": "084d17ef",
   "metadata": {
    "scrolled": true
   },
   "outputs": [
    {
     "data": {
      "text/plain": [
       "array([[ 7.4       ,  0.7       ,  0.        , ...,  3.51      ,\n",
       "         0.56      ,  9.4       ],\n",
       "       [ 7.8       ,  0.88      ,  0.        , ...,  3.2       ,\n",
       "         0.68      ,  9.8       ],\n",
       "       [ 7.8       ,  0.76      ,  0.04      , ...,  3.26      ,\n",
       "         0.65      ,  9.8       ],\n",
       "       ...,\n",
       "       [ 5.5875323 ,  0.40531169,  0.25468831, ...,  3.60249354,\n",
       "         0.73020779, 13.36350667],\n",
       "       [ 7.56675077,  0.33209572,  0.35095719, ...,  3.22161713,\n",
       "         1.05284633, 10.10478594],\n",
       "       [ 7.48300481,  0.44065113,  0.38566608, ...,  3.38807347,\n",
       "         0.85274791, 12.81813023]])"
      ]
     },
     "execution_count": 79,
     "metadata": {},
     "output_type": "execute_result"
    }
   ],
   "source": [
    "X"
   ]
  },
  {
   "cell_type": "code",
   "execution_count": 80,
   "id": "500a0d33",
   "metadata": {},
   "outputs": [
    {
     "data": {
      "text/plain": [
       "array([2, 2, 2, ..., 5, 5, 5])"
      ]
     },
     "execution_count": 80,
     "metadata": {},
     "output_type": "execute_result"
    }
   ],
   "source": [
    "y"
   ]
  },
  {
   "cell_type": "code",
   "execution_count": 83,
   "id": "33816074",
   "metadata": {},
   "outputs": [],
   "source": [
    "#separate the train and test set\n",
    "#not usable for the current method\n",
    "\n",
    "\n",
    "#x_train, x_test, y_train, y_test = train_test_split(X, y, test_size = 0.25, random_state = 12)\n",
    "\n"
   ]
  },
  {
   "cell_type": "code",
   "execution_count": 84,
   "id": "251088c5",
   "metadata": {},
   "outputs": [
    {
     "name": "stdout",
     "output_type": "stream",
     "text": [
      "[2 2 2 ... 5 5 5]\n"
     ]
    }
   ],
   "source": [
    "#we start the neural network method\n",
    "#encode to numpy array\n",
    "\n",
    "\n",
    "from keras.utils import np_utils\n",
    "\n",
    "\n",
    "encoder = LabelEncoder()\n",
    "encoder.fit(y)\n",
    "encoded_Y = encoder.transform(y)\n",
    "# convert integers to dummy variables (i.e. one hot encoded)\n",
    "dummy_y = np_utils.to_categorical(encoded_Y)\n",
    "\n",
    "print(encoded_Y)"
   ]
  },
  {
   "cell_type": "code",
   "execution_count": 85,
   "id": "d9752d57",
   "metadata": {},
   "outputs": [],
   "source": [
    "#optimizer can be Adam \n",
    "#loss function should be categorical_crossentropy\n",
    "#EarlyStopping callbacks to prevent overfitting\n",
    "\n",
    "from keras.wrappers.scikit_learn import KerasClassifier\n",
    "from keras.utils import np_utils\n",
    "\n",
    "# for modeling\n",
    "from keras.models import Sequential\n",
    "from keras.layers import Dense, Dropout\n",
    "from keras.callbacks import EarlyStopping"
   ]
  },
  {
   "cell_type": "code",
   "execution_count": 86,
   "id": "67d17e1f",
   "metadata": {},
   "outputs": [
    {
     "name": "stdout",
     "output_type": "stream",
     "text": [
      "[[0. 0. 1. 0. 0. 0.]\n",
      " [0. 0. 1. 0. 0. 0.]\n",
      " [0. 0. 1. 0. 0. 0.]\n",
      " ...\n",
      " [0. 0. 0. 0. 0. 1.]\n",
      " [0. 0. 0. 0. 0. 1.]\n",
      " [0. 0. 0. 0. 0. 1.]]\n"
     ]
    }
   ],
   "source": [
    "print(dummy_y)\n"
   ]
  },
  {
   "cell_type": "code",
   "execution_count": 90,
   "id": "605678ba",
   "metadata": {},
   "outputs": [
    {
     "name": "stdout",
     "output_type": "stream",
     "text": [
      "Model: \"sequential_15\"\n",
      "_________________________________________________________________\n",
      " Layer (type)                Output Shape              Param #   \n",
      "=================================================================\n",
      " dense_41 (Dense)            (None, 10)                120       \n",
      "                                                                 \n",
      " dense_42 (Dense)            (None, 6)                 66        \n",
      "                                                                 \n",
      "=================================================================\n",
      "Total params: 186\n",
      "Trainable params: 186\n",
      "Non-trainable params: 0\n",
      "_________________________________________________________________\n"
     ]
    }
   ],
   "source": [
    "#Neural network model contain two layers of 10 and 6 neurons\n",
    "#\n",
    "\n",
    "model = Sequential()\n",
    "model.add(Dense(10, input_shape=(X.shape[1],), activation='relu')) # input shape is (features,)\n",
    "model.add(Dense(6, activation='softmax'))\n",
    "model.summary()\n",
    "\n",
    "# compile the model\n",
    "model.compile(optimizer='rmsprop', \n",
    "              loss='categorical_crossentropy', # this is different instead of binary_crossentropy (for regular classification)\n",
    "              metrics=['accuracy'])"
   ]
  },
  {
   "cell_type": "code",
   "execution_count": 91,
   "id": "95ce91e8",
   "metadata": {},
   "outputs": [
    {
     "name": "stdout",
     "output_type": "stream",
     "text": [
      "Epoch 1/800000\n",
      "  6/327 [..............................] - ETA: 3s - loss: 14.5064 - accuracy: 0.2167 "
     ]
    },
    {
     "name": "stderr",
     "output_type": "stream",
     "text": [
      "2022-11-13 20:57:29.279671: I tensorflow/core/grappler/optimizers/custom_graph_optimizer_registry.cc:114] Plugin optimizer for device_type GPU is enabled.\n"
     ]
    },
    {
     "name": "stdout",
     "output_type": "stream",
     "text": [
      "327/327 [==============================] - ETA: 0s - loss: 3.8260 - accuracy: 0.1594"
     ]
    },
    {
     "name": "stderr",
     "output_type": "stream",
     "text": [
      "2022-11-13 20:57:32.375548: I tensorflow/core/grappler/optimizers/custom_graph_optimizer_registry.cc:114] Plugin optimizer for device_type GPU is enabled.\n"
     ]
    },
    {
     "name": "stdout",
     "output_type": "stream",
     "text": [
      "327/327 [==============================] - 4s 11ms/step - loss: 3.8260 - accuracy: 0.1594 - val_loss: 5.7959 - val_accuracy: 0.0000e+00\n",
      "Epoch 2/800000\n",
      "327/327 [==============================] - 3s 10ms/step - loss: 1.6385 - accuracy: 0.2864 - val_loss: 5.8293 - val_accuracy: 0.0244\n",
      "Epoch 3/800000\n",
      "327/327 [==============================] - 3s 10ms/step - loss: 1.5408 - accuracy: 0.3595 - val_loss: 5.8078 - val_accuracy: 0.0098\n",
      "Epoch 4/800000\n",
      "327/327 [==============================] - 3s 10ms/step - loss: 1.5006 - accuracy: 0.3700 - val_loss: 5.3850 - val_accuracy: 0.0281\n",
      "Epoch 5/800000\n",
      "327/327 [==============================] - 3s 10ms/step - loss: 1.4734 - accuracy: 0.3822 - val_loss: 5.6793 - val_accuracy: 0.0477\n",
      "Epoch 6/800000\n",
      "327/327 [==============================] - 3s 10ms/step - loss: 1.4492 - accuracy: 0.4030 - val_loss: 5.8614 - val_accuracy: 0.0807\n",
      "Epoch 7/800000\n",
      "327/327 [==============================] - 3s 10ms/step - loss: 1.4330 - accuracy: 0.3999 - val_loss: 5.8450 - val_accuracy: 0.0648\n",
      "Epoch 8/800000\n",
      "327/327 [==============================] - 3s 10ms/step - loss: 1.4169 - accuracy: 0.4128 - val_loss: 5.5843 - val_accuracy: 0.0697\n",
      "Epoch 9/800000\n",
      "327/327 [==============================] - 3s 10ms/step - loss: 1.3963 - accuracy: 0.4076 - val_loss: 5.5883 - val_accuracy: 0.0623\n",
      "Epoch 10/800000\n",
      "327/327 [==============================] - 3s 10ms/step - loss: 1.3803 - accuracy: 0.4211 - val_loss: 5.8015 - val_accuracy: 0.0318\n",
      "Epoch 11/800000\n",
      "327/327 [==============================] - 3s 10ms/step - loss: 1.3643 - accuracy: 0.4214 - val_loss: 6.0732 - val_accuracy: 0.1002\n",
      "Epoch 12/800000\n",
      "327/327 [==============================] - 3s 10ms/step - loss: 1.3503 - accuracy: 0.4269 - val_loss: 5.8619 - val_accuracy: 0.0782\n",
      "Epoch 13/800000\n",
      "327/327 [==============================] - 3s 10ms/step - loss: 1.3332 - accuracy: 0.4253 - val_loss: 5.1724 - val_accuracy: 0.0587\n",
      "Epoch 14/800000\n",
      "327/327 [==============================] - 3s 10ms/step - loss: 1.3106 - accuracy: 0.4559 - val_loss: 5.6214 - val_accuracy: 0.0477\n",
      "Epoch 15/800000\n",
      "327/327 [==============================] - 3s 10ms/step - loss: 1.2965 - accuracy: 0.4373 - val_loss: 5.7952 - val_accuracy: 0.0587\n",
      "Epoch 16/800000\n",
      "327/327 [==============================] - 3s 10ms/step - loss: 1.2822 - accuracy: 0.4422 - val_loss: 5.4326 - val_accuracy: 0.0795\n",
      "Epoch 17/800000\n",
      "327/327 [==============================] - 3s 10ms/step - loss: 1.2654 - accuracy: 0.4468 - val_loss: 6.0572 - val_accuracy: 0.0611\n",
      "Epoch 18/800000\n",
      "327/327 [==============================] - 3s 10ms/step - loss: 1.2553 - accuracy: 0.4562 - val_loss: 5.4261 - val_accuracy: 0.0819\n",
      "Epoch 19/800000\n",
      "327/327 [==============================] - 3s 10ms/step - loss: 1.2374 - accuracy: 0.4587 - val_loss: 5.1454 - val_accuracy: 0.0758\n",
      "Epoch 20/800000\n",
      "327/327 [==============================] - 3s 10ms/step - loss: 1.2261 - accuracy: 0.4743 - val_loss: 5.4763 - val_accuracy: 0.0880\n",
      "Epoch 21/800000\n",
      "327/327 [==============================] - 3s 10ms/step - loss: 1.2081 - accuracy: 0.4819 - val_loss: 5.6137 - val_accuracy: 0.0929\n",
      "Epoch 22/800000\n",
      "327/327 [==============================] - 3s 11ms/step - loss: 1.1954 - accuracy: 0.4832 - val_loss: 5.6575 - val_accuracy: 0.0856\n",
      "Epoch 23/800000\n",
      "327/327 [==============================] - 3s 10ms/step - loss: 1.1808 - accuracy: 0.5064 - val_loss: 5.7391 - val_accuracy: 0.1088\n",
      "Epoch 24/800000\n",
      "327/327 [==============================] - 3s 10ms/step - loss: 1.1755 - accuracy: 0.5110 - val_loss: 5.6651 - val_accuracy: 0.0978\n",
      "Epoch 25/800000\n",
      "327/327 [==============================] - 3s 10ms/step - loss: 1.1609 - accuracy: 0.5177 - val_loss: 5.6252 - val_accuracy: 0.1174\n",
      "Epoch 26/800000\n",
      "327/327 [==============================] - 3s 10ms/step - loss: 1.1495 - accuracy: 0.5260 - val_loss: 5.9613 - val_accuracy: 0.1100\n",
      "Epoch 27/800000\n",
      "327/327 [==============================] - 3s 10ms/step - loss: 1.1387 - accuracy: 0.5269 - val_loss: 5.7420 - val_accuracy: 0.1125\n",
      "Epoch 28/800000\n",
      "327/327 [==============================] - 3s 10ms/step - loss: 1.1261 - accuracy: 0.5435 - val_loss: 5.3000 - val_accuracy: 0.1210\n",
      "Epoch 29/800000\n",
      "327/327 [==============================] - 3s 11ms/step - loss: 1.1132 - accuracy: 0.5447 - val_loss: 5.7422 - val_accuracy: 0.0978\n"
     ]
    }
   ],
   "source": [
    "#imply learning\n",
    "\n",
    "import keras\n",
    "from keras.callbacks import EarlyStopping\n",
    "\n",
    "# early stopping callback\n",
    "# This callback will stop the training when there is no improvement in  \n",
    "# the validation loss for 10 consecutive epochs.  \n",
    "es = keras.callbacks.EarlyStopping(monitor='val_loss', \n",
    "                                   mode='min',\n",
    "                                   patience=10, \n",
    "                                   restore_best_weights=True) # important - otherwise you just return the last weigths...\n",
    "\n",
    "# now we just update our model fit call\n",
    "history = model.fit(X,\n",
    "                    dummy_y,\n",
    "                    callbacks=[es],\n",
    "                    epochs=800000, # you can set this to a big number!\n",
    "                    batch_size=10,\n",
    "                    shuffle=True,\n",
    "                    validation_split=0.2,\n",
    "                    verbose=1)"
   ]
  },
  {
   "cell_type": "code",
   "execution_count": 92,
   "id": "05e8ebe2",
   "metadata": {},
   "outputs": [
    {
     "data": {
      "image/png": "[encoded data removed]",
      "text/plain": [
       "<Figure size 640x480 with 1 Axes>"
      ]
     },
     "metadata": {},
     "output_type": "display_data"
    }
   ],
   "source": [
    "#check the train and test\n",
    "\n",
    "import matplotlib.pyplot as plt\n",
    "\n",
    "history_dict = history.history\n",
    "\n",
    "# learning curve\n",
    "# accuracy\n",
    "acc = history_dict['accuracy']\n",
    "val_acc = history_dict['val_accuracy']\n",
    "\n",
    "# loss\n",
    "loss = history_dict['loss']\n",
    "val_loss = history_dict['val_loss']\n",
    "\n",
    "# range of X (no. of epochs)\n",
    "epochs = range(1, len(acc) + 1)\n",
    "\n",
    "# plot\n",
    "# \"r\" is for \"solid red line\"\n",
    "plt.plot(epochs, acc, 'r', label='Training accuracy')\n",
    "# b is for \"solid blue line\"\n",
    "plt.plot(epochs, val_acc, 'b', label='Validation accuracy')\n",
    "plt.title('Training and validation accuracy')\n",
    "plt.xlabel('Epochs')\n",
    "plt.ylabel('Accuracy')\n",
    "plt.legend()\n",
    "\n",
    "plt.show()"
   ]
  },
  {
   "cell_type": "code",
   "execution_count": 93,
   "id": "1bd09ebd",
   "metadata": {},
   "outputs": [
    {
     "name": "stdout",
     "output_type": "stream",
     "text": [
      " 96/128 [=====================>........] - ETA: 0s"
     ]
    },
    {
     "name": "stderr",
     "output_type": "stream",
     "text": [
      "2022-11-13 21:01:41.017185: I tensorflow/core/grappler/optimizers/custom_graph_optimizer_registry.cc:114] Plugin optimizer for device_type GPU is enabled.\n"
     ]
    },
    {
     "name": "stdout",
     "output_type": "stream",
     "text": [
      "128/128 [==============================] - 0s 2ms/step\n",
      "[0.2074132  0.45261496 0.22199811 0.09166716 0.02340968 0.00289688]\n",
      "1.0\n",
      "              precision    recall  f1-score   support\n",
      "\n",
      "           0       0.49      0.75      0.59       681\n",
      "           1       0.39      0.31      0.35       681\n",
      "           2       0.38      0.51      0.44       681\n",
      "           3       0.24      0.30      0.27       681\n",
      "           4       0.36      0.38      0.37       681\n",
      "           5       0.00      0.00      0.00       681\n",
      "\n",
      "    accuracy                           0.38      4086\n",
      "   macro avg       0.31      0.38      0.34      4086\n",
      "weighted avg       0.31      0.38      0.34      4086\n",
      "\n"
     ]
    },
    {
     "name": "stderr",
     "output_type": "stream",
     "text": [
      "/opt/homebrew/Caskroom/miniforge/base/envs/mlp/lib/python3.8/site-packages/sklearn/metrics/_classification.py:1334: UndefinedMetricWarning: Precision and F-score are ill-defined and being set to 0.0 in labels with no predicted samples. Use `zero_division` parameter to control this behavior.\n",
      "  _warn_prf(average, modifier, msg_start, len(result))\n",
      "/opt/homebrew/Caskroom/miniforge/base/envs/mlp/lib/python3.8/site-packages/sklearn/metrics/_classification.py:1334: UndefinedMetricWarning: Precision and F-score are ill-defined and being set to 0.0 in labels with no predicted samples. Use `zero_division` parameter to control this behavior.\n",
      "  _warn_prf(average, modifier, msg_start, len(result))\n",
      "/opt/homebrew/Caskroom/miniforge/base/envs/mlp/lib/python3.8/site-packages/sklearn/metrics/_classification.py:1334: UndefinedMetricWarning: Precision and F-score are ill-defined and being set to 0.0 in labels with no predicted samples. Use `zero_division` parameter to control this behavior.\n",
      "  _warn_prf(average, modifier, msg_start, len(result))\n"
     ]
    }
   ],
   "source": [
    "#detail info, need to be studied\n",
    "\n",
    "from sklearn.metrics import confusion_matrix\n",
    "from sklearn.metrics import classification_report\n",
    "\n",
    "preds = model.predict(X) # see how the model did!\n",
    "print(preds[0]) # i'm spreading that prediction across three nodes and they sum to 1\n",
    "print(np.sum(preds[0])) # sum it up! Should be 1\n",
    "## [9.9999988e-01 1.3509347e-07 6.7064638e-16]\n",
    "## 1.0\n",
    "\n",
    "# Almost a perfect prediction\n",
    "# actual is left, predicted is top\n",
    "# names can be found by inspecting Y\n",
    "matrix = confusion_matrix(dummy_y.argmax(axis=1), preds.argmax(axis=1))\n",
    "matrix\n",
    "## array([[50,  0,  0],\n",
    "##        [ 0, 46,  4],\n",
    "##        [ 0,  1, 49]])\n",
    "\n",
    "\n",
    "# more detail on how well things were predicted\n",
    "print(classification_report(dummy_y.argmax(axis=1), preds.argmax(axis=1)))"
   ]
  },
  {
   "cell_type": "code",
   "execution_count": 94,
   "id": "cf192614",
   "metadata": {},
   "outputs": [],
   "source": [
    "############################################################################\n",
    "################\n",
    "#After here, its useless for now!"
   ]
  },
  {
   "cell_type": "code",
   "execution_count": null,
   "id": "0e846be9",
   "metadata": {},
   "outputs": [],
   "source": []
  },
  {
   "cell_type": "code",
   "execution_count": 51,
   "id": "a3b2f021",
   "metadata": {},
   "outputs": [
    {
     "name": "stdout",
     "output_type": "stream",
     "text": [
      "Epoch 1/10\n"
     ]
    },
    {
     "name": "stderr",
     "output_type": "stream",
     "text": [
      "2022-11-13 18:22:19.654936: I tensorflow/core/grappler/optimizers/custom_graph_optimizer_registry.cc:114] Plugin optimizer for device_type GPU is enabled.\n"
     ]
    },
    {
     "name": "stdout",
     "output_type": "stream",
     "text": [
      "307/307 [==============================] - 3s 8ms/step - loss: 0.0000e+00 - accuracy: 0.1697\n",
      "Epoch 2/10\n",
      "307/307 [==============================] - 2s 8ms/step - loss: 0.0000e+00 - accuracy: 0.1697\n",
      "Epoch 3/10\n",
      "307/307 [==============================] - 2s 8ms/step - loss: 0.0000e+00 - accuracy: 0.1697\n",
      "Epoch 4/10\n",
      "307/307 [==============================] - 2s 8ms/step - loss: 0.0000e+00 - accuracy: 0.1697\n",
      "Epoch 5/10\n",
      "307/307 [==============================] - 2s 8ms/step - loss: 0.0000e+00 - accuracy: 0.1697\n",
      "Epoch 6/10\n",
      "307/307 [==============================] - 2s 8ms/step - loss: 0.0000e+00 - accuracy: 0.1697\n",
      "Epoch 7/10\n",
      "307/307 [==============================] - 2s 8ms/step - loss: 0.0000e+00 - accuracy: 0.1697\n",
      "Epoch 8/10\n",
      "307/307 [==============================] - 2s 8ms/step - loss: 0.0000e+00 - accuracy: 0.1697\n",
      "Epoch 9/10\n",
      "307/307 [==============================] - 2s 8ms/step - loss: 0.0000e+00 - accuracy: 0.1697\n",
      "Epoch 10/10\n",
      "307/307 [==============================] - 2s 8ms/step - loss: 0.0000e+00 - accuracy: 0.1697\n"
     ]
    },
    {
     "data": {
      "text/plain": [
       "<keras.callbacks.History at 0x2cc7c22e0>"
      ]
     },
     "execution_count": 51,
     "metadata": {},
     "output_type": "execute_result"
    }
   ],
   "source": [
    "model = keras.Sequential([\n",
    "\n",
    "keras.layers.Dense(6, input_dim = 11, activation = 'softmax'),\n",
    "keras.layers.Dense(3, activation = 'softmax'),\n",
    "keras.layers.Dense(1, activation = 'softmax')\n",
    "])\n",
    "\n",
    "model.compile(loss = 'categorical_crossentropy', optimizer = 'sgd', metrics = ['accuracy'])\n",
    "\n",
    "model.fit(x_train, y_train, batch_size = 10, epochs = 10)"
   ]
  },
  {
   "cell_type": "code",
   "execution_count": 55,
   "id": "9f0cb6ea",
   "metadata": {},
   "outputs": [
    {
     "name": "stdout",
     "output_type": "stream",
     "text": [
      "16/32 [==============>...............] - ETA: 0s - loss: 0.0000e+00 - accuracy: 0.1602"
     ]
    },
    {
     "name": "stderr",
     "output_type": "stream",
     "text": [
      "2022-11-13 18:24:57.421265: I tensorflow/core/grappler/optimizers/custom_graph_optimizer_registry.cc:114] Plugin optimizer for device_type GPU is enabled.\n"
     ]
    },
    {
     "name": "stdout",
     "output_type": "stream",
     "text": [
      "32/32 [==============================] - 0s 7ms/step - loss: 0.0000e+00 - accuracy: 0.1575\n"
     ]
    },
    {
     "data": {
      "text/plain": [
       "[0.0, 0.15753424167633057]"
      ]
     },
     "execution_count": 55,
     "metadata": {},
     "output_type": "execute_result"
    }
   ],
   "source": [
    "model.evaluate(x_test, y_test)"
   ]
  },
  {
   "cell_type": "code",
   "execution_count": 56,
   "id": "65b8b93f",
   "metadata": {},
   "outputs": [
    {
     "name": "stdout",
     "output_type": "stream",
     "text": [
      "32/32 [==============================] - 0s 2ms/step\n",
      "[1. 1. 1. 1. 1. 1. 1. 1. 1. 1.]\n"
     ]
    },
    {
     "name": "stderr",
     "output_type": "stream",
     "text": [
      "2022-11-13 18:25:05.438780: I tensorflow/core/grappler/optimizers/custom_graph_optimizer_registry.cc:114] Plugin optimizer for device_type GPU is enabled.\n"
     ]
    }
   ],
   "source": [
    "y_pred = model.predict(x_test).reshape(-1)\n",
    "print(y_pred[:10])\n",
    "\n",
    "y_pred = np.round(y_pred)"
   ]
  },
  {
   "cell_type": "code",
   "execution_count": null,
   "id": "fa94cc96",
   "metadata": {},
   "outputs": [],
   "source": []
  }
 ],
 "metadata": {
  "kernelspec": {
   "display_name": "Python 3 (ipykernel)",
   "language": "python",
   "name": "python3"
  },
  "language_info": {
   "codemirror_mode": {
    "name": "ipython",
    "version": 3
   },
   "file_extension": ".py",
   "mimetype": "text/x-python",
   "name": "python",
   "nbconvert_exporter": "python",
   "pygments_lexer": "ipython3",
   "version": "3.8.13"
  }
 },
 "nbformat": 4,
 "nbformat_minor": 5
}
