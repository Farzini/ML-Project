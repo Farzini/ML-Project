{
 "cells": [
  {
   "cell_type": "code",
   "execution_count": 12,
   "id": "d983e0e3",
   "metadata": {},
   "outputs": [],
   "source": [
    "import numpy as np\n",
    "import pandas as pd\n",
    "from sklearn.preprocessing import StandardScaler\n",
    "from imblearn.over_sampling import RandomOverSampler\n",
    "from sklearn.model_selection import train_test_split\n",
    "import tensorflow as tf\n",
    "from tensorflow import keras\n",
    "from sklearn.metrics import confusion_matrix, classification_report"
   ]
  },
  {
   "cell_type": "code",
   "execution_count": 2,
   "id": "6e12bbc0",
   "metadata": {
    "scrolled": true
   },
   "outputs": [
    {
     "data": {
      "text/html": [
       "<div>\n",
       "<style scoped>\n",
       "    .dataframe tbody tr th:only-of-type {\n",
       "        vertical-align: middle;\n",
       "    }\n",
       "\n",
       "    .dataframe tbody tr th {\n",
       "        vertical-align: top;\n",
       "    }\n",
       "\n",
       "    .dataframe thead th {\n",
       "        text-align: right;\n",
       "    }\n",
       "</style>\n",
       "<table border=\"1\" class=\"dataframe\">\n",
       "  <thead>\n",
       "    <tr style=\"text-align: right;\">\n",
       "      <th></th>\n",
       "      <th>fix_acidity</th>\n",
       "      <th>vol_acidity</th>\n",
       "      <th>critic_acidity</th>\n",
       "      <th>res_sugar</th>\n",
       "      <th>chloride</th>\n",
       "      <th>free_SO2</th>\n",
       "      <th>tot_SO2</th>\n",
       "      <th>density</th>\n",
       "      <th>pH</th>\n",
       "      <th>sulphate</th>\n",
       "      <th>alcohol</th>\n",
       "      <th>class</th>\n",
       "    </tr>\n",
       "  </thead>\n",
       "  <tbody>\n",
       "    <tr>\n",
       "      <th>0</th>\n",
       "      <td>7.0</td>\n",
       "      <td>0.27</td>\n",
       "      <td>0.36</td>\n",
       "      <td>20.7</td>\n",
       "      <td>0.045</td>\n",
       "      <td>45.0</td>\n",
       "      <td>170.0</td>\n",
       "      <td>1.00100</td>\n",
       "      <td>3.00</td>\n",
       "      <td>0.45</td>\n",
       "      <td>8.8</td>\n",
       "      <td>1</td>\n",
       "    </tr>\n",
       "    <tr>\n",
       "      <th>1</th>\n",
       "      <td>6.3</td>\n",
       "      <td>0.30</td>\n",
       "      <td>0.34</td>\n",
       "      <td>1.6</td>\n",
       "      <td>0.049</td>\n",
       "      <td>14.0</td>\n",
       "      <td>132.0</td>\n",
       "      <td>0.99400</td>\n",
       "      <td>3.30</td>\n",
       "      <td>0.49</td>\n",
       "      <td>9.5</td>\n",
       "      <td>1</td>\n",
       "    </tr>\n",
       "    <tr>\n",
       "      <th>2</th>\n",
       "      <td>8.1</td>\n",
       "      <td>0.28</td>\n",
       "      <td>0.40</td>\n",
       "      <td>6.9</td>\n",
       "      <td>0.050</td>\n",
       "      <td>30.0</td>\n",
       "      <td>97.0</td>\n",
       "      <td>0.99510</td>\n",
       "      <td>3.26</td>\n",
       "      <td>0.44</td>\n",
       "      <td>10.1</td>\n",
       "      <td>1</td>\n",
       "    </tr>\n",
       "    <tr>\n",
       "      <th>3</th>\n",
       "      <td>7.2</td>\n",
       "      <td>0.23</td>\n",
       "      <td>0.32</td>\n",
       "      <td>8.5</td>\n",
       "      <td>0.058</td>\n",
       "      <td>47.0</td>\n",
       "      <td>186.0</td>\n",
       "      <td>0.99560</td>\n",
       "      <td>3.19</td>\n",
       "      <td>0.40</td>\n",
       "      <td>9.9</td>\n",
       "      <td>1</td>\n",
       "    </tr>\n",
       "    <tr>\n",
       "      <th>4</th>\n",
       "      <td>7.2</td>\n",
       "      <td>0.23</td>\n",
       "      <td>0.32</td>\n",
       "      <td>8.5</td>\n",
       "      <td>0.058</td>\n",
       "      <td>47.0</td>\n",
       "      <td>186.0</td>\n",
       "      <td>0.99560</td>\n",
       "      <td>3.19</td>\n",
       "      <td>0.40</td>\n",
       "      <td>9.9</td>\n",
       "      <td>1</td>\n",
       "    </tr>\n",
       "    <tr>\n",
       "      <th>...</th>\n",
       "      <td>...</td>\n",
       "      <td>...</td>\n",
       "      <td>...</td>\n",
       "      <td>...</td>\n",
       "      <td>...</td>\n",
       "      <td>...</td>\n",
       "      <td>...</td>\n",
       "      <td>...</td>\n",
       "      <td>...</td>\n",
       "      <td>...</td>\n",
       "      <td>...</td>\n",
       "      <td>...</td>\n",
       "    </tr>\n",
       "    <tr>\n",
       "      <th>4893</th>\n",
       "      <td>6.2</td>\n",
       "      <td>0.21</td>\n",
       "      <td>0.29</td>\n",
       "      <td>1.6</td>\n",
       "      <td>0.039</td>\n",
       "      <td>24.0</td>\n",
       "      <td>92.0</td>\n",
       "      <td>0.99114</td>\n",
       "      <td>3.27</td>\n",
       "      <td>0.50</td>\n",
       "      <td>11.2</td>\n",
       "      <td>1</td>\n",
       "    </tr>\n",
       "    <tr>\n",
       "      <th>4894</th>\n",
       "      <td>6.6</td>\n",
       "      <td>0.32</td>\n",
       "      <td>0.36</td>\n",
       "      <td>8.0</td>\n",
       "      <td>0.047</td>\n",
       "      <td>57.0</td>\n",
       "      <td>168.0</td>\n",
       "      <td>0.99490</td>\n",
       "      <td>3.15</td>\n",
       "      <td>0.46</td>\n",
       "      <td>9.6</td>\n",
       "      <td>1</td>\n",
       "    </tr>\n",
       "    <tr>\n",
       "      <th>4895</th>\n",
       "      <td>6.5</td>\n",
       "      <td>0.24</td>\n",
       "      <td>0.19</td>\n",
       "      <td>1.2</td>\n",
       "      <td>0.041</td>\n",
       "      <td>30.0</td>\n",
       "      <td>111.0</td>\n",
       "      <td>0.99254</td>\n",
       "      <td>2.99</td>\n",
       "      <td>0.46</td>\n",
       "      <td>9.4</td>\n",
       "      <td>1</td>\n",
       "    </tr>\n",
       "    <tr>\n",
       "      <th>4896</th>\n",
       "      <td>5.5</td>\n",
       "      <td>0.29</td>\n",
       "      <td>0.30</td>\n",
       "      <td>1.1</td>\n",
       "      <td>0.022</td>\n",
       "      <td>20.0</td>\n",
       "      <td>110.0</td>\n",
       "      <td>0.98869</td>\n",
       "      <td>3.34</td>\n",
       "      <td>0.38</td>\n",
       "      <td>12.8</td>\n",
       "      <td>1</td>\n",
       "    </tr>\n",
       "    <tr>\n",
       "      <th>4897</th>\n",
       "      <td>6.0</td>\n",
       "      <td>0.21</td>\n",
       "      <td>0.38</td>\n",
       "      <td>0.8</td>\n",
       "      <td>0.020</td>\n",
       "      <td>22.0</td>\n",
       "      <td>98.0</td>\n",
       "      <td>0.98941</td>\n",
       "      <td>3.26</td>\n",
       "      <td>0.32</td>\n",
       "      <td>11.8</td>\n",
       "      <td>1</td>\n",
       "    </tr>\n",
       "  </tbody>\n",
       "</table>\n",
       "<p>4898 rows × 12 columns</p>\n",
       "</div>"
      ],
      "text/plain": [
       "      fix_acidity  vol_acidity  critic_acidity  res_sugar  chloride  free_SO2  \\\n",
       "0             7.0         0.27            0.36       20.7     0.045      45.0   \n",
       "1             6.3         0.30            0.34        1.6     0.049      14.0   \n",
       "2             8.1         0.28            0.40        6.9     0.050      30.0   \n",
       "3             7.2         0.23            0.32        8.5     0.058      47.0   \n",
       "4             7.2         0.23            0.32        8.5     0.058      47.0   \n",
       "...           ...          ...             ...        ...       ...       ...   \n",
       "4893          6.2         0.21            0.29        1.6     0.039      24.0   \n",
       "4894          6.6         0.32            0.36        8.0     0.047      57.0   \n",
       "4895          6.5         0.24            0.19        1.2     0.041      30.0   \n",
       "4896          5.5         0.29            0.30        1.1     0.022      20.0   \n",
       "4897          6.0         0.21            0.38        0.8     0.020      22.0   \n",
       "\n",
       "      tot_SO2  density    pH  sulphate  alcohol  class  \n",
       "0       170.0  1.00100  3.00      0.45      8.8      1  \n",
       "1       132.0  0.99400  3.30      0.49      9.5      1  \n",
       "2        97.0  0.99510  3.26      0.44     10.1      1  \n",
       "3       186.0  0.99560  3.19      0.40      9.9      1  \n",
       "4       186.0  0.99560  3.19      0.40      9.9      1  \n",
       "...       ...      ...   ...       ...      ...    ...  \n",
       "4893     92.0  0.99114  3.27      0.50     11.2      1  \n",
       "4894    168.0  0.99490  3.15      0.46      9.6      1  \n",
       "4895    111.0  0.99254  2.99      0.46      9.4      1  \n",
       "4896    110.0  0.98869  3.34      0.38     12.8      1  \n",
       "4897     98.0  0.98941  3.26      0.32     11.8      1  \n",
       "\n",
       "[4898 rows x 12 columns]"
      ]
     },
     "execution_count": 2,
     "metadata": {},
     "output_type": "execute_result"
    }
   ],
   "source": [
    "cols = [\"fix_acidity\", \"vol_acidity\", \"critic_acidity\", \"res_sugar\", \"chloride\", \"free_SO2\", \"tot_SO2\", \"density\", \"pH\",\"sulphate\", \"alcohol\", \"class\"] # Quality is class\n",
    "\n",
    "df = pd.read_csv(\"winequality-white.csv\", names = cols, delimiter=\";\", header=0)\n",
    "\n",
    "X = df.drop('class', axis = 'columns')\n",
    "Y = df['class']\n",
    "\n",
    "df.loc[df['class'] < 5, 'class'] = 0\n",
    "df.loc[df['class'] > 4, 'class'] = 1\n",
    "\n",
    "df"
   ]
  },
  {
   "cell_type": "code",
   "execution_count": 4,
   "id": "0d78d40b",
   "metadata": {},
   "outputs": [
    {
     "data": {
      "text/plain": [
       "1    4715\n",
       "0     183\n",
       "Name: class, dtype: int64"
      ]
     },
     "execution_count": 4,
     "metadata": {},
     "output_type": "execute_result"
    }
   ],
   "source": [
    "Y.value_counts()"
   ]
  },
  {
   "cell_type": "code",
   "execution_count": 6,
   "id": "a09e145e",
   "metadata": {},
   "outputs": [
    {
     "name": "stdout",
     "output_type": "stream",
     "text": [
      "Epoch 1/100\n"
     ]
    },
    {
     "name": "stderr",
     "output_type": "stream",
     "text": [
      "2022-11-13 01:35:33.703675: I tensorflow/core/grappler/optimizers/custom_graph_optimizer_registry.cc:114] Plugin optimizer for device_type GPU is enabled.\n"
     ]
    },
    {
     "name": "stdout",
     "output_type": "stream",
     "text": [
      "460/460 [==============================] - 6s 9ms/step - loss: 0.5999 - accuracy: 0.9589\n",
      "Epoch 2/100\n",
      "460/460 [==============================] - 3s 6ms/step - loss: 0.4550 - accuracy: 0.9613\n",
      "Epoch 3/100\n",
      "460/460 [==============================] - 3s 6ms/step - loss: 0.3589 - accuracy: 0.9613\n",
      "Epoch 4/100\n",
      "460/460 [==============================] - 3s 7ms/step - loss: 0.2949 - accuracy: 0.9613\n",
      "Epoch 5/100\n",
      "460/460 [==============================] - 3s 6ms/step - loss: 0.2517 - accuracy: 0.9613\n",
      "Epoch 6/100\n",
      "460/460 [==============================] - 3s 6ms/step - loss: 0.2224 - accuracy: 0.9613\n",
      "Epoch 7/100\n",
      "460/460 [==============================] - 3s 6ms/step - loss: 0.2026 - accuracy: 0.9613\n",
      "Epoch 8/100\n",
      "460/460 [==============================] - 3s 6ms/step - loss: 0.1892 - accuracy: 0.9613\n",
      "Epoch 9/100\n",
      "460/460 [==============================] - 3s 6ms/step - loss: 0.1805 - accuracy: 0.9613\n",
      "Epoch 10/100\n",
      "460/460 [==============================] - 3s 6ms/step - loss: 0.1744 - accuracy: 0.9613\n",
      "Epoch 11/100\n",
      "460/460 [==============================] - 3s 6ms/step - loss: 0.1704 - accuracy: 0.9613\n",
      "Epoch 12/100\n",
      "460/460 [==============================] - 3s 6ms/step - loss: 0.1680 - accuracy: 0.9613\n",
      "Epoch 13/100\n",
      "460/460 [==============================] - 3s 6ms/step - loss: 0.1663 - accuracy: 0.9613\n",
      "Epoch 14/100\n",
      "460/460 [==============================] - 3s 6ms/step - loss: 0.1653 - accuracy: 0.9613\n",
      "Epoch 15/100\n",
      "460/460 [==============================] - 3s 6ms/step - loss: 0.1646 - accuracy: 0.9613\n",
      "Epoch 16/100\n",
      "460/460 [==============================] - 3s 6ms/step - loss: 0.1643 - accuracy: 0.9613\n",
      "Epoch 17/100\n",
      "460/460 [==============================] - 3s 6ms/step - loss: 0.1641 - accuracy: 0.9613\n",
      "Epoch 18/100\n",
      "460/460 [==============================] - 3s 6ms/step - loss: 0.1639 - accuracy: 0.9613\n",
      "Epoch 19/100\n",
      "460/460 [==============================] - 3s 6ms/step - loss: 0.1638 - accuracy: 0.9613\n",
      "Epoch 20/100\n",
      "460/460 [==============================] - 3s 7ms/step - loss: 0.1638 - accuracy: 0.9613\n",
      "Epoch 21/100\n",
      "460/460 [==============================] - 3s 6ms/step - loss: 0.1637 - accuracy: 0.9613\n",
      "Epoch 22/100\n",
      "460/460 [==============================] - 3s 6ms/step - loss: 0.1637 - accuracy: 0.9613\n",
      "Epoch 23/100\n",
      "460/460 [==============================] - 3s 6ms/step - loss: 0.1637 - accuracy: 0.9613\n",
      "Epoch 24/100\n",
      "460/460 [==============================] - 3s 6ms/step - loss: 0.1637 - accuracy: 0.9613\n",
      "Epoch 25/100\n",
      "460/460 [==============================] - 3s 6ms/step - loss: 0.1637 - accuracy: 0.9613\n",
      "Epoch 26/100\n",
      "460/460 [==============================] - 3s 6ms/step - loss: 0.1637 - accuracy: 0.9613\n",
      "Epoch 27/100\n",
      "460/460 [==============================] - 3s 6ms/step - loss: 0.1637 - accuracy: 0.9613\n",
      "Epoch 28/100\n",
      "460/460 [==============================] - 3s 6ms/step - loss: 0.1637 - accuracy: 0.9613\n",
      "Epoch 29/100\n",
      "460/460 [==============================] - 3s 6ms/step - loss: 0.1637 - accuracy: 0.9613\n",
      "Epoch 30/100\n",
      "460/460 [==============================] - 3s 6ms/step - loss: 0.1637 - accuracy: 0.9613\n",
      "Epoch 31/100\n",
      "460/460 [==============================] - 3s 6ms/step - loss: 0.1637 - accuracy: 0.9613\n",
      "Epoch 32/100\n",
      "460/460 [==============================] - 3s 6ms/step - loss: 0.1637 - accuracy: 0.9613\n",
      "Epoch 33/100\n",
      "460/460 [==============================] - 3s 6ms/step - loss: 0.1637 - accuracy: 0.9613\n",
      "Epoch 34/100\n",
      "460/460 [==============================] - 3s 6ms/step - loss: 0.1637 - accuracy: 0.9613\n",
      "Epoch 35/100\n",
      "460/460 [==============================] - 3s 6ms/step - loss: 0.1637 - accuracy: 0.9613\n",
      "Epoch 36/100\n",
      "460/460 [==============================] - 3s 6ms/step - loss: 0.1637 - accuracy: 0.9613\n",
      "Epoch 37/100\n",
      "460/460 [==============================] - 3s 6ms/step - loss: 0.1637 - accuracy: 0.9613\n",
      "Epoch 38/100\n",
      "460/460 [==============================] - 3s 6ms/step - loss: 0.1637 - accuracy: 0.9613\n",
      "Epoch 39/100\n",
      "460/460 [==============================] - 3s 6ms/step - loss: 0.1637 - accuracy: 0.9613\n",
      "Epoch 40/100\n",
      "460/460 [==============================] - 3s 6ms/step - loss: 0.1637 - accuracy: 0.9613\n",
      "Epoch 41/100\n",
      "460/460 [==============================] - 3s 6ms/step - loss: 0.1637 - accuracy: 0.9613\n",
      "Epoch 42/100\n",
      "460/460 [==============================] - 3s 6ms/step - loss: 0.1637 - accuracy: 0.9613\n",
      "Epoch 43/100\n",
      "460/460 [==============================] - 3s 6ms/step - loss: 0.1637 - accuracy: 0.9613\n",
      "Epoch 44/100\n",
      "460/460 [==============================] - 3s 6ms/step - loss: 0.1637 - accuracy: 0.9613\n",
      "Epoch 45/100\n",
      "460/460 [==============================] - 3s 6ms/step - loss: 0.1637 - accuracy: 0.9613\n",
      "Epoch 46/100\n",
      "460/460 [==============================] - 3s 6ms/step - loss: 0.1637 - accuracy: 0.9613\n",
      "Epoch 47/100\n",
      "460/460 [==============================] - 3s 6ms/step - loss: 0.1637 - accuracy: 0.9613\n",
      "Epoch 48/100\n",
      "460/460 [==============================] - 3s 6ms/step - loss: 0.1637 - accuracy: 0.9613\n",
      "Epoch 49/100\n",
      "460/460 [==============================] - 3s 6ms/step - loss: 0.1637 - accuracy: 0.9613\n",
      "Epoch 50/100\n",
      "460/460 [==============================] - 3s 6ms/step - loss: 0.1637 - accuracy: 0.9613\n",
      "Epoch 51/100\n",
      "460/460 [==============================] - 3s 6ms/step - loss: 0.1637 - accuracy: 0.9613\n",
      "Epoch 52/100\n",
      "460/460 [==============================] - 3s 6ms/step - loss: 0.1637 - accuracy: 0.9613\n",
      "Epoch 53/100\n",
      "460/460 [==============================] - 3s 6ms/step - loss: 0.1637 - accuracy: 0.9613\n",
      "Epoch 54/100\n",
      "460/460 [==============================] - 3s 6ms/step - loss: 0.1637 - accuracy: 0.9613\n",
      "Epoch 55/100\n",
      "460/460 [==============================] - 3s 6ms/step - loss: 0.1637 - accuracy: 0.9613\n",
      "Epoch 56/100\n",
      "460/460 [==============================] - 3s 6ms/step - loss: 0.1637 - accuracy: 0.9613\n",
      "Epoch 57/100\n",
      "460/460 [==============================] - 3s 6ms/step - loss: 0.1637 - accuracy: 0.9613\n",
      "Epoch 58/100\n",
      "460/460 [==============================] - 3s 6ms/step - loss: 0.1637 - accuracy: 0.9613\n",
      "Epoch 59/100\n",
      "460/460 [==============================] - 3s 6ms/step - loss: 0.1637 - accuracy: 0.9613\n",
      "Epoch 60/100\n",
      "460/460 [==============================] - 3s 6ms/step - loss: 0.1637 - accuracy: 0.9613\n",
      "Epoch 61/100\n",
      "460/460 [==============================] - 3s 7ms/step - loss: 0.1637 - accuracy: 0.9613\n",
      "Epoch 62/100\n",
      "460/460 [==============================] - 3s 6ms/step - loss: 0.1637 - accuracy: 0.9613\n",
      "Epoch 63/100\n",
      "460/460 [==============================] - 3s 6ms/step - loss: 0.1637 - accuracy: 0.9613\n",
      "Epoch 64/100\n",
      "460/460 [==============================] - 3s 6ms/step - loss: 0.1637 - accuracy: 0.9613\n",
      "Epoch 65/100\n",
      "460/460 [==============================] - 3s 6ms/step - loss: 0.1637 - accuracy: 0.9613\n",
      "Epoch 66/100\n",
      "460/460 [==============================] - 3s 7ms/step - loss: 0.1637 - accuracy: 0.9613\n",
      "Epoch 67/100\n",
      "460/460 [==============================] - 3s 6ms/step - loss: 0.1637 - accuracy: 0.9613\n",
      "Epoch 68/100\n",
      "460/460 [==============================] - 4s 8ms/step - loss: 0.1637 - accuracy: 0.9613\n",
      "Epoch 69/100\n",
      "460/460 [==============================] - 4s 8ms/step - loss: 0.1637 - accuracy: 0.9613\n",
      "Epoch 70/100\n",
      "460/460 [==============================] - 4s 8ms/step - loss: 0.1637 - accuracy: 0.9613\n",
      "Epoch 71/100\n",
      "460/460 [==============================] - 4s 8ms/step - loss: 0.1637 - accuracy: 0.9613\n",
      "Epoch 72/100\n",
      "460/460 [==============================] - 3s 7ms/step - loss: 0.1637 - accuracy: 0.9613\n",
      "Epoch 73/100\n",
      "460/460 [==============================] - 3s 6ms/step - loss: 0.1637 - accuracy: 0.9613\n",
      "Epoch 74/100\n",
      "460/460 [==============================] - 3s 7ms/step - loss: 0.1637 - accuracy: 0.9613\n",
      "Epoch 75/100\n",
      "460/460 [==============================] - 4s 8ms/step - loss: 0.1637 - accuracy: 0.9613\n",
      "Epoch 76/100\n",
      "460/460 [==============================] - 3s 6ms/step - loss: 0.1637 - accuracy: 0.9613\n",
      "Epoch 77/100\n",
      "460/460 [==============================] - 3s 6ms/step - loss: 0.1637 - accuracy: 0.9613\n",
      "Epoch 78/100\n",
      "460/460 [==============================] - 3s 6ms/step - loss: 0.1637 - accuracy: 0.9613\n",
      "Epoch 79/100\n",
      "460/460 [==============================] - 3s 6ms/step - loss: 0.1637 - accuracy: 0.9613\n",
      "Epoch 80/100\n",
      "460/460 [==============================] - 3s 6ms/step - loss: 0.1637 - accuracy: 0.9613\n",
      "Epoch 81/100\n"
     ]
    },
    {
     "name": "stdout",
     "output_type": "stream",
     "text": [
      "460/460 [==============================] - 3s 6ms/step - loss: 0.1637 - accuracy: 0.9613\n",
      "Epoch 82/100\n",
      "460/460 [==============================] - 3s 6ms/step - loss: 0.1637 - accuracy: 0.9613\n",
      "Epoch 83/100\n",
      "460/460 [==============================] - 3s 6ms/step - loss: 0.1637 - accuracy: 0.9613\n",
      "Epoch 84/100\n",
      "460/460 [==============================] - 4s 8ms/step - loss: 0.1637 - accuracy: 0.9613\n",
      "Epoch 85/100\n",
      "460/460 [==============================] - 3s 7ms/step - loss: 0.1637 - accuracy: 0.9613\n",
      "Epoch 86/100\n",
      "460/460 [==============================] - 4s 8ms/step - loss: 0.1637 - accuracy: 0.9613\n",
      "Epoch 87/100\n",
      "460/460 [==============================] - 3s 7ms/step - loss: 0.1637 - accuracy: 0.9613\n",
      "Epoch 88/100\n",
      "460/460 [==============================] - 3s 7ms/step - loss: 0.1637 - accuracy: 0.9613\n",
      "Epoch 89/100\n",
      "460/460 [==============================] - 3s 6ms/step - loss: 0.1637 - accuracy: 0.9613\n",
      "Epoch 90/100\n",
      "460/460 [==============================] - 3s 6ms/step - loss: 0.1637 - accuracy: 0.9613\n",
      "Epoch 91/100\n",
      "460/460 [==============================] - 3s 6ms/step - loss: 0.1637 - accuracy: 0.9613\n",
      "Epoch 92/100\n",
      "460/460 [==============================] - 3s 6ms/step - loss: 0.1637 - accuracy: 0.9613\n",
      "Epoch 93/100\n",
      "460/460 [==============================] - 3s 6ms/step - loss: 0.1637 - accuracy: 0.9613\n",
      "Epoch 94/100\n",
      "460/460 [==============================] - 3s 6ms/step - loss: 0.1637 - accuracy: 0.9613\n",
      "Epoch 95/100\n",
      "460/460 [==============================] - 3s 6ms/step - loss: 0.1637 - accuracy: 0.9613\n",
      "Epoch 96/100\n",
      "460/460 [==============================] - 3s 6ms/step - loss: 0.1637 - accuracy: 0.9613\n",
      "Epoch 97/100\n",
      "460/460 [==============================] - 3s 6ms/step - loss: 0.1637 - accuracy: 0.9613\n",
      "Epoch 98/100\n",
      "460/460 [==============================] - 3s 6ms/step - loss: 0.1637 - accuracy: 0.9613\n",
      "Epoch 99/100\n",
      "460/460 [==============================] - 3s 6ms/step - loss: 0.1637 - accuracy: 0.9613\n",
      "Epoch 100/100\n",
      "460/460 [==============================] - 3s 6ms/step - loss: 0.1637 - accuracy: 0.9613\n"
     ]
    },
    {
     "data": {
      "text/plain": [
       "<keras.callbacks.History at 0x291ec8430>"
      ]
     },
     "execution_count": 6,
     "metadata": {},
     "output_type": "execute_result"
    }
   ],
   "source": [
    "x_train, x_test, y_train, y_test = train_test_split(X, Y, test_size = 0.25, random_state = 12)\n",
    "\n",
    "model = keras.Sequential([\n",
    "\n",
    "keras.layers.Dense(11, input_dim = 11, activation = 'relu'),\n",
    "keras.layers.Dense(6, activation = 'relu'),\n",
    "keras.layers.Dense(3, activation = 'relu'),\n",
    "keras.layers.Dense(1, activation = 'sigmoid')\n",
    "])\n",
    "\n",
    "model.compile(loss='binary_crossentropy', optimizer='adam', metrics=['accuracy'])\n",
    "\n",
    "model.fit(x_train, y_train, epochs=100, batch_size=8)"
   ]
  },
  {
   "cell_type": "code",
   "execution_count": 7,
   "id": "54911289",
   "metadata": {},
   "outputs": [
    {
     "name": "stdout",
     "output_type": "stream",
     "text": [
      "\r",
      " 1/39 [..............................] - ETA: 8s - loss: 0.2403 - accuracy: 0.9375"
     ]
    },
    {
     "name": "stderr",
     "output_type": "stream",
     "text": [
      "2022-11-13 01:42:16.698197: I tensorflow/core/grappler/optimizers/custom_graph_optimizer_registry.cc:114] Plugin optimizer for device_type GPU is enabled.\n"
     ]
    },
    {
     "name": "stdout",
     "output_type": "stream",
     "text": [
      "39/39 [==============================] - 0s 7ms/step - loss: 0.1470 - accuracy: 0.9665\n"
     ]
    },
    {
     "data": {
      "text/plain": [
       "[0.1469769924879074, 0.9665306210517883]"
      ]
     },
     "execution_count": 7,
     "metadata": {},
     "output_type": "execute_result"
    }
   ],
   "source": [
    "model.evaluate(x_test, y_test)"
   ]
  },
  {
   "cell_type": "code",
   "execution_count": 9,
   "id": "1a61acc1",
   "metadata": {},
   "outputs": [
    {
     "name": "stdout",
     "output_type": "stream",
     "text": [
      "39/39 [==============================] - 0s 3ms/step\n",
      "[0.9613735 0.9613735 0.9613735 0.9613735 0.9613735 0.9613735 0.9613735\n",
      " 0.9613735 0.9613735 0.9613735]\n"
     ]
    }
   ],
   "source": [
    "y_pred = model.predict(x_test).reshape(-1)\n",
    "print(y_pred[:10])\n",
    "\n",
    "y_pred = np.round(y_pred)"
   ]
  },
  {
   "cell_type": "code",
   "execution_count": 10,
   "id": "53e8d8e5",
   "metadata": {},
   "outputs": [
    {
     "name": "stderr",
     "output_type": "stream",
     "text": [
      "/var/folders/4c/8skw9t597zl_pb3jtt1f0kdc0000gn/T/ipykernel_31567/2966258366.py:1: FutureWarning: The behavior of `series[i:j]` with an integer-dtype index is deprecated. In a future version, this will be treated as *label-based* indexing, consistent with e.g. `series[i]` lookups. To retain the old behavior, use `series.iloc[i:j]`. To get the future behavior, use `series.loc[i:j]`.\n",
      "  y_test[0:10]\n"
     ]
    },
    {
     "data": {
      "text/plain": [
       "718     1\n",
       "2454    1\n",
       "640     1\n",
       "1191    1\n",
       "96      1\n",
       "2218    1\n",
       "3946    1\n",
       "4791    1\n",
       "1927    1\n",
       "4796    1\n",
       "Name: class, dtype: int64"
      ]
     },
     "execution_count": 10,
     "metadata": {},
     "output_type": "execute_result"
    }
   ],
   "source": [
    "y_test[0:10]"
   ]
  },
  {
   "cell_type": "code",
   "execution_count": 13,
   "id": "de331eeb",
   "metadata": {},
   "outputs": [
    {
     "name": "stdout",
     "output_type": "stream",
     "text": [
      "              precision    recall  f1-score   support\n",
      "\n",
      "           0       0.00      0.00      0.00        41\n",
      "           1       0.97      1.00      0.98      1184\n",
      "\n",
      "    accuracy                           0.97      1225\n",
      "   macro avg       0.48      0.50      0.49      1225\n",
      "weighted avg       0.93      0.97      0.95      1225\n",
      "\n"
     ]
    },
    {
     "name": "stderr",
     "output_type": "stream",
     "text": [
      "/opt/homebrew/Caskroom/miniforge/base/envs/mlp/lib/python3.8/site-packages/sklearn/metrics/_classification.py:1334: UndefinedMetricWarning: Precision and F-score are ill-defined and being set to 0.0 in labels with no predicted samples. Use `zero_division` parameter to control this behavior.\n",
      "  _warn_prf(average, modifier, msg_start, len(result))\n",
      "/opt/homebrew/Caskroom/miniforge/base/envs/mlp/lib/python3.8/site-packages/sklearn/metrics/_classification.py:1334: UndefinedMetricWarning: Precision and F-score are ill-defined and being set to 0.0 in labels with no predicted samples. Use `zero_division` parameter to control this behavior.\n",
      "  _warn_prf(average, modifier, msg_start, len(result))\n",
      "/opt/homebrew/Caskroom/miniforge/base/envs/mlp/lib/python3.8/site-packages/sklearn/metrics/_classification.py:1334: UndefinedMetricWarning: Precision and F-score are ill-defined and being set to 0.0 in labels with no predicted samples. Use `zero_division` parameter to control this behavior.\n",
      "  _warn_prf(average, modifier, msg_start, len(result))\n"
     ]
    }
   ],
   "source": [
    "print(classification_report(y_test, y_pred))"
   ]
  },
  {
   "cell_type": "code",
   "execution_count": 15,
   "id": "2ee4a4de",
   "metadata": {},
   "outputs": [
    {
     "name": "stdout",
     "output_type": "stream",
     "text": [
      "Epoch 1/20\n"
     ]
    },
    {
     "name": "stderr",
     "output_type": "stream",
     "text": [
      "2022-11-13 10:24:18.942887: I tensorflow/core/grappler/optimizers/custom_graph_optimizer_registry.cc:114] Plugin optimizer for device_type GPU is enabled.\n"
     ]
    },
    {
     "name": "stdout",
     "output_type": "stream",
     "text": [
      "184/184 [==============================] - 2s 9ms/step - loss: 1.5789 - accuracy: 0.8895\n",
      "Epoch 2/20\n",
      "184/184 [==============================] - 1s 7ms/step - loss: 0.7571 - accuracy: 0.9613\n",
      "Epoch 3/20\n",
      "184/184 [==============================] - 1s 7ms/step - loss: 0.4671 - accuracy: 0.9613\n",
      "Epoch 4/20\n",
      "184/184 [==============================] - 1s 7ms/step - loss: 0.3777 - accuracy: 0.9613\n",
      "Epoch 5/20\n",
      "184/184 [==============================] - 1s 7ms/step - loss: 0.3528 - accuracy: 0.9613\n",
      "Epoch 6/20\n",
      "184/184 [==============================] - 1s 7ms/step - loss: 0.3187 - accuracy: 0.9613\n",
      "Epoch 7/20\n",
      "184/184 [==============================] - 1s 7ms/step - loss: 0.2848 - accuracy: 0.9613\n",
      "Epoch 8/20\n",
      "184/184 [==============================] - 1s 7ms/step - loss: 0.2672 - accuracy: 0.9613\n",
      "Epoch 9/20\n",
      "184/184 [==============================] - 1s 7ms/step - loss: 0.2435 - accuracy: 0.9613\n",
      "Epoch 10/20\n",
      "184/184 [==============================] - 1s 7ms/step - loss: 0.2306 - accuracy: 0.9613\n",
      "Epoch 11/20\n",
      "184/184 [==============================] - 1s 7ms/step - loss: 0.2053 - accuracy: 0.9613\n",
      "Epoch 12/20\n",
      "184/184 [==============================] - 1s 7ms/step - loss: 0.2109 - accuracy: 0.9613\n",
      "Epoch 13/20\n",
      "184/184 [==============================] - 1s 7ms/step - loss: 0.2039 - accuracy: 0.9613\n",
      "Epoch 14/20\n",
      "184/184 [==============================] - 1s 7ms/step - loss: 0.1956 - accuracy: 0.9613\n",
      "Epoch 15/20\n",
      "184/184 [==============================] - 1s 7ms/step - loss: 0.1876 - accuracy: 0.9613\n",
      "Epoch 16/20\n",
      "184/184 [==============================] - 1s 7ms/step - loss: 0.1869 - accuracy: 0.9613\n",
      "Epoch 17/20\n",
      "184/184 [==============================] - 1s 7ms/step - loss: 0.1798 - accuracy: 0.9613\n",
      "Epoch 18/20\n",
      "184/184 [==============================] - 1s 7ms/step - loss: 0.1792 - accuracy: 0.9613\n",
      "Epoch 19/20\n",
      "184/184 [==============================] - 1s 7ms/step - loss: 0.1783 - accuracy: 0.9613\n",
      "Epoch 20/20\n",
      "184/184 [==============================] - 1s 8ms/step - loss: 0.1771 - accuracy: 0.9613\n"
     ]
    },
    {
     "data": {
      "text/plain": [
       "<keras.callbacks.History at 0x291b2afa0>"
      ]
     },
     "execution_count": 15,
     "metadata": {},
     "output_type": "execute_result"
    }
   ],
   "source": [
    "modeld = keras.Sequential([\n",
    "\n",
    "keras.layers.Dense(11, input_dim = 11, activation = 'relu'),\n",
    "keras.layers.Dropout(0.5),\n",
    "keras.layers.Dense(6, activation = 'relu'),\n",
    "keras.layers.Dropout(0.5),\n",
    "keras.layers.Dense(3, activation = 'relu'),\n",
    "keras.layers.Dropout(0.5),\n",
    "keras.layers.Dense(1, activation = 'sigmoid')\n",
    "])\n",
    "\n",
    "modeld.compile(loss='binary_crossentropy', optimizer='adam', metrics=['accuracy'])\n",
    "\n",
    "modeld.fit(x_train, y_train, epochs=20, batch_size=20)"
   ]
  },
  {
   "cell_type": "code",
   "execution_count": 17,
   "id": "da57aa0a",
   "metadata": {},
   "outputs": [
    {
     "name": "stdout",
     "output_type": "stream",
     "text": [
      "24/39 [=================>............] - ETA: 0s - loss: 0.1641 - accuracy: 0.9688"
     ]
    },
    {
     "name": "stderr",
     "output_type": "stream",
     "text": [
      "2022-11-13 10:25:31.348740: I tensorflow/core/grappler/optimizers/custom_graph_optimizer_registry.cc:114] Plugin optimizer for device_type GPU is enabled.\n"
     ]
    },
    {
     "name": "stdout",
     "output_type": "stream",
     "text": [
      "39/39 [==============================] - 0s 5ms/step - loss: 0.1692 - accuracy: 0.9665\n"
     ]
    },
    {
     "data": {
      "text/plain": [
       "[0.16921132802963257, 0.9665306210517883]"
      ]
     },
     "execution_count": 17,
     "metadata": {},
     "output_type": "execute_result"
    }
   ],
   "source": [
    "modeld.evaluate(x_test, y_test)"
   ]
  },
  {
   "cell_type": "code",
   "execution_count": 18,
   "id": "7d284d9e",
   "metadata": {},
   "outputs": [
    {
     "name": "stdout",
     "output_type": "stream",
     "text": [
      "39/39 [==============================] - 0s 2ms/step\n",
      "              precision    recall  f1-score   support\n",
      "\n",
      "           0       0.00      0.00      0.00        41\n",
      "           1       0.97      1.00      0.98      1184\n",
      "\n",
      "    accuracy                           0.97      1225\n",
      "   macro avg       0.48      0.50      0.49      1225\n",
      "weighted avg       0.93      0.97      0.95      1225\n",
      "\n"
     ]
    },
    {
     "name": "stderr",
     "output_type": "stream",
     "text": [
      "2022-11-13 10:27:42.099950: I tensorflow/core/grappler/optimizers/custom_graph_optimizer_registry.cc:114] Plugin optimizer for device_type GPU is enabled.\n",
      "/opt/homebrew/Caskroom/miniforge/base/envs/mlp/lib/python3.8/site-packages/sklearn/metrics/_classification.py:1334: UndefinedMetricWarning: Precision and F-score are ill-defined and being set to 0.0 in labels with no predicted samples. Use `zero_division` parameter to control this behavior.\n",
      "  _warn_prf(average, modifier, msg_start, len(result))\n",
      "/opt/homebrew/Caskroom/miniforge/base/envs/mlp/lib/python3.8/site-packages/sklearn/metrics/_classification.py:1334: UndefinedMetricWarning: Precision and F-score are ill-defined and being set to 0.0 in labels with no predicted samples. Use `zero_division` parameter to control this behavior.\n",
      "  _warn_prf(average, modifier, msg_start, len(result))\n",
      "/opt/homebrew/Caskroom/miniforge/base/envs/mlp/lib/python3.8/site-packages/sklearn/metrics/_classification.py:1334: UndefinedMetricWarning: Precision and F-score are ill-defined and being set to 0.0 in labels with no predicted samples. Use `zero_division` parameter to control this behavior.\n",
      "  _warn_prf(average, modifier, msg_start, len(result))\n"
     ]
    }
   ],
   "source": [
    "y_predd = modeld.predict(x_test).reshape(-1)\n",
    "y_predd = np.round(y_pred)\n",
    "\n",
    "print(classification_report(y_test, y_predd))"
   ]
  },
  {
   "cell_type": "code",
   "execution_count": null,
   "id": "e19b9b38",
   "metadata": {},
   "outputs": [],
   "source": []
  },
  {
   "cell_type": "code",
   "execution_count": null,
   "id": "1b046b0f",
   "metadata": {},
   "outputs": [],
   "source": []
  }
 ],
 "metadata": {
  "kernelspec": {
   "display_name": "Python 3 (ipykernel)",
   "language": "python",
   "name": "python3"
  },
  "language_info": {
   "codemirror_mode": {
    "name": "ipython",
    "version": 3
   },
   "file_extension": ".py",
   "mimetype": "text/x-python",
   "name": "python",
   "nbconvert_exporter": "python",
   "pygments_lexer": "ipython3",
   "version": "3.8.13"
  }
 },
 "nbformat": 4,
 "nbformat_minor": 5
}
