{
 "cells": [
  {
   "cell_type": "code",
   "execution_count": 20,
   "id": "4860fc11",
   "metadata": {},
   "outputs": [],
   "source": [
    "import numpy as np\n",
    "import pandas as pd\n",
    "from sklearn.preprocessing import StandardScaler\n",
    "from imblearn.over_sampling import RandomOverSampler\n",
    "from sklearn.model_selection import train_test_split\n",
    "import tensorflow as tf\n",
    "from tensorflow import keras\n",
    "from sklearn.metrics import confusion_matrix, classification_report\n",
    "from collections import Counter\n",
    "from scipy.ndimage import convolve1d\n",
    "import utils\n",
    "import torch\n",
    "from sklearn.preprocessing import LabelEncoder\n",
    "from imblearn.over_sampling import SMOTE\n",
    "from matplotlib import pyplot\n",
    "\n",
    "\n"
   ]
  },
  {
   "cell_type": "code",
   "execution_count": 21,
   "id": "b2906cc6",
   "metadata": {},
   "outputs": [],
   "source": [
    "cols = [\"fix_acidity\", \"vol_acidity\", \"critic_acidity\", \"res_sugar\", \"chloride\", \"free_SO2\", \"tot_SO2\", \"density\", \"pH\",\"sulphate\", \"alcohol\", \"class\"] # Quality is class\n",
    "\n",
    "df = pd.read_csv(\"winequality-red.csv\", names = cols, delimiter=\";\", header=0)\n"
   ]
  },
  {
   "cell_type": "code",
   "execution_count": 22,
   "id": "42d1c22b",
   "metadata": {},
   "outputs": [],
   "source": [
    "#change data type to value\n",
    "data = df.values"
   ]
  },
  {
   "cell_type": "code",
   "execution_count": 23,
   "id": "d870749f",
   "metadata": {},
   "outputs": [],
   "source": [
    "#separating the X, y. They are the class and atributes and should be separated for the rest of the calculations.\n",
    "X, y = data[:, :-1], data[:, -1]"
   ]
  },
  {
   "cell_type": "code",
   "execution_count": 24,
   "id": "35f3dcf0",
   "metadata": {},
   "outputs": [],
   "source": [
    "#we do necessary changes for the oversampling method SMOTE, since data is imbalanced.\n",
    "y = LabelEncoder().fit_transform(y)"
   ]
  },
  {
   "cell_type": "code",
   "execution_count": 25,
   "id": "bc008bf6",
   "metadata": {},
   "outputs": [],
   "source": [
    "oversample = SMOTE()\n",
    "X, y = oversample.fit_resample(X, y)"
   ]
  },
  {
   "cell_type": "code",
   "execution_count": 26,
   "id": "2d191454",
   "metadata": {},
   "outputs": [],
   "source": [
    "counter = Counter(y)\n"
   ]
  },
  {
   "cell_type": "code",
   "execution_count": 27,
   "id": "b6682013",
   "metadata": {},
   "outputs": [
    {
     "name": "stdout",
     "output_type": "stream",
     "text": [
      "Class=2, n=681 (16.667%)\n",
      "Class=3, n=681 (16.667%)\n",
      "Class=4, n=681 (16.667%)\n",
      "Class=1, n=681 (16.667%)\n",
      "Class=5, n=681 (16.667%)\n",
      "Class=0, n=681 (16.667%)\n"
     ]
    },
    {
     "data": {
      "image/png": "[encoded data removed]",
      "text/plain": [
       "<Figure size 640x480 with 1 Axes>"
      ]
     },
     "metadata": {},
     "output_type": "display_data"
    }
   ],
   "source": [
    "#the data becomes balanced, we just have the class from 3 to 8 available data.\n",
    "#This data is shown by 0 to 5 (6 classes) in the x-axis, y-axis number of instances\n",
    "\n",
    "for k,v in counter.items():\n",
    "\tper = v / len(y) * 100\n",
    "\tprint('Class=%d, n=%d (%.3f%%)' % (k, v, per))\n",
    "# plot the distribution\n",
    "pyplot.bar(counter.keys(), counter.values())\n",
    "pyplot.show()"
   ]
  },
  {
   "cell_type": "code",
   "execution_count": 28,
   "id": "f8a3f003",
   "metadata": {
    "scrolled": true
   },
   "outputs": [
    {
     "data": {
      "text/plain": [
       "(4086,)"
      ]
     },
     "execution_count": 28,
     "metadata": {},
     "output_type": "execute_result"
    }
   ],
   "source": [
    "y.shape"
   ]
  },
  {
   "cell_type": "code",
   "execution_count": 29,
   "id": "084d17ef",
   "metadata": {
    "scrolled": true
   },
   "outputs": [
    {
     "data": {
      "text/plain": [
       "array([[ 7.4       ,  0.7       ,  0.        , ...,  3.51      ,\n",
       "         0.56      ,  9.4       ],\n",
       "       [ 7.8       ,  0.88      ,  0.        , ...,  3.2       ,\n",
       "         0.68      ,  9.8       ],\n",
       "       [ 7.8       ,  0.76      ,  0.04      , ...,  3.26      ,\n",
       "         0.65      ,  9.8       ],\n",
       "       ...,\n",
       "       [ 7.90681933,  0.37543839,  0.36029226, ...,  3.29058451,\n",
       "         0.89300291, 10.85828062],\n",
       "       [11.14305142,  0.54937314,  0.63337867, ...,  3.20168933,\n",
       "         0.67953676, 12.7722057 ],\n",
       "       [ 9.87777703,  0.33617522,  0.50012814, ...,  3.06846159,\n",
       "         0.75717947, 10.63760707]])"
      ]
     },
     "execution_count": 29,
     "metadata": {},
     "output_type": "execute_result"
    }
   ],
   "source": [
    "X"
   ]
  },
  {
   "cell_type": "code",
   "execution_count": 30,
   "id": "500a0d33",
   "metadata": {},
   "outputs": [
    {
     "data": {
      "text/plain": [
       "array([2, 2, 2, ..., 5, 5, 5])"
      ]
     },
     "execution_count": 30,
     "metadata": {},
     "output_type": "execute_result"
    }
   ],
   "source": [
    "y"
   ]
  },
  {
   "cell_type": "code",
   "execution_count": 31,
   "id": "33816074",
   "metadata": {},
   "outputs": [],
   "source": [
    "#separate the train and test set\n",
    "#not usable for the current method\n",
    "\n",
    "\n",
    "#x_train, x_test, y_train, y_test = train_test_split(X, y, test_size = 0.25, random_state = 12)\n",
    "\n"
   ]
  },
  {
   "cell_type": "code",
   "execution_count": 32,
   "id": "251088c5",
   "metadata": {},
   "outputs": [
    {
     "name": "stdout",
     "output_type": "stream",
     "text": [
      "[2 2 2 ... 5 5 5]\n"
     ]
    }
   ],
   "source": [
    "#we start the neural network method\n",
    "#encode to numpy array\n",
    "\n",
    "\n",
    "from keras.utils import np_utils\n",
    "\n",
    "\n",
    "encoder = LabelEncoder()\n",
    "encoder.fit(y)\n",
    "encoded_Y = encoder.transform(y)\n",
    "# convert integers to dummy variables (i.e. one hot encoded)\n",
    "dummy_y = np_utils.to_categorical(encoded_Y)\n",
    "\n",
    "print(encoded_Y)"
   ]
  },
  {
   "cell_type": "code",
   "execution_count": 33,
   "id": "d9752d57",
   "metadata": {},
   "outputs": [],
   "source": [
    "#optimizer can be Adam \n",
    "#loss function should be categorical_crossentropy\n",
    "#EarlyStopping callbacks to prevent overfitting\n",
    "\n",
    "from keras.wrappers.scikit_learn import KerasClassifier\n",
    "from keras.utils import np_utils\n",
    "\n",
    "# for modeling\n",
    "from keras.models import Sequential\n",
    "from keras.layers import Dense, Dropout\n",
    "from keras.callbacks import EarlyStopping"
   ]
  },
  {
   "cell_type": "code",
   "execution_count": 34,
   "id": "67d17e1f",
   "metadata": {},
   "outputs": [
    {
     "name": "stdout",
     "output_type": "stream",
     "text": [
      "[[0. 0. 1. 0. 0. 0.]\n",
      " [0. 0. 1. 0. 0. 0.]\n",
      " [0. 0. 1. 0. 0. 0.]\n",
      " ...\n",
      " [0. 0. 0. 0. 0. 1.]\n",
      " [0. 0. 0. 0. 0. 1.]\n",
      " [0. 0. 0. 0. 0. 1.]]\n"
     ]
    }
   ],
   "source": [
    "print(dummy_y)\n"
   ]
  },
  {
   "cell_type": "code",
   "execution_count": 35,
   "id": "605678ba",
   "metadata": {},
   "outputs": [
    {
     "name": "stdout",
     "output_type": "stream",
     "text": [
      "Metal device set to: Apple M1\n",
      "Model: \"sequential\"\n",
      "_________________________________________________________________\n",
      " Layer (type)                Output Shape              Param #   \n",
      "=================================================================\n",
      " dense (Dense)               (None, 100)               1200      \n",
      "                                                                 \n",
      " dense_1 (Dense)             (None, 50)                5050      \n",
      "                                                                 \n",
      " dense_2 (Dense)             (None, 20)                1020      \n",
      "                                                                 \n",
      " dense_3 (Dense)             (None, 12)                252       \n",
      "                                                                 \n",
      " dense_4 (Dense)             (None, 6)                 78        \n",
      "                                                                 \n",
      "=================================================================\n",
      "Total params: 7,600\n",
      "Trainable params: 7,600\n",
      "Non-trainable params: 0\n",
      "_________________________________________________________________\n"
     ]
    },
    {
     "name": "stderr",
     "output_type": "stream",
     "text": [
      "2022-11-14 17:56:44.652361: I tensorflow/core/common_runtime/pluggable_device/pluggable_device_factory.cc:306] Could not identify NUMA node of platform GPU ID 0, defaulting to 0. Your kernel may not have been built with NUMA support.\n",
      "2022-11-14 17:56:44.653469: I tensorflow/core/common_runtime/pluggable_device/pluggable_device_factory.cc:272] Created TensorFlow device (/job:localhost/replica:0/task:0/device:GPU:0 with 0 MB memory) -> physical PluggableDevice (device: 0, name: METAL, pci bus id: <undefined>)\n"
     ]
    }
   ],
   "source": [
    "#Neural network model contain two layers of 10 and 6 neurons\n",
    "#\n",
    "\n",
    "model = Sequential()\n",
    "model.add(Dense(100, input_shape=(X.shape[1],), activation='relu')) # input shape is (features,)\n",
    "model.add(Dense(50, input_shape=(X.shape[1],), activation='relu'))\n",
    "model.add(Dense(20, input_shape=(X.shape[1],), activation='relu'))\n",
    "model.add(Dense(12, input_shape=(X.shape[1],), activation='relu'))\n",
    "model.add(Dense(6, activation='softmax'))\n",
    "model.summary()\n",
    "\n",
    "# compile the model\n",
    "model.compile(optimizer='rmsprop', \n",
    "              loss='categorical_crossentropy', # this is different instead of binary_crossentropy (for regular classification)\n",
    "              metrics=['accuracy'])"
   ]
  },
  {
   "cell_type": "code",
   "execution_count": 36,
   "id": "95ce91e8",
   "metadata": {},
   "outputs": [
    {
     "name": "stdout",
     "output_type": "stream",
     "text": [
      "Epoch 1/800000\n"
     ]
    },
    {
     "name": "stderr",
     "output_type": "stream",
     "text": [
      "2022-11-14 17:57:10.672380: W tensorflow/core/platform/profile_utils/cpu_utils.cc:128] Failed to get CPU frequency: 0 Hz\n",
      "2022-11-14 17:57:10.960064: I tensorflow/core/grappler/optimizers/custom_graph_optimizer_registry.cc:114] Plugin optimizer for device_type GPU is enabled.\n"
     ]
    },
    {
     "name": "stdout",
     "output_type": "stream",
     "text": [
      "327/327 [==============================] - ETA: 0s - loss: 1.6410 - accuracy: 0.3081"
     ]
    },
    {
     "name": "stderr",
     "output_type": "stream",
     "text": [
      "2022-11-14 17:57:16.093357: I tensorflow/core/grappler/optimizers/custom_graph_optimizer_registry.cc:114] Plugin optimizer for device_type GPU is enabled.\n"
     ]
    },
    {
     "name": "stdout",
     "output_type": "stream",
     "text": [
      "327/327 [==============================] - 6s 15ms/step - loss: 1.6410 - accuracy: 0.3081 - val_loss: 4.2817 - val_accuracy: 0.1284\n",
      "Epoch 2/800000\n",
      "327/327 [==============================] - 4s 13ms/step - loss: 1.4431 - accuracy: 0.3755 - val_loss: 5.3031 - val_accuracy: 0.0782\n",
      "Epoch 3/800000\n",
      "327/327 [==============================] - 4s 13ms/step - loss: 1.3059 - accuracy: 0.4397 - val_loss: 4.6991 - val_accuracy: 0.0929\n",
      "Epoch 4/800000\n",
      "327/327 [==============================] - 4s 13ms/step - loss: 1.2257 - accuracy: 0.4823 - val_loss: 4.8254 - val_accuracy: 0.1039\n",
      "Epoch 5/800000\n",
      "327/327 [==============================] - 4s 13ms/step - loss: 1.1805 - accuracy: 0.4957 - val_loss: 5.1250 - val_accuracy: 0.1186\n",
      "Epoch 6/800000\n",
      "327/327 [==============================] - 4s 13ms/step - loss: 1.1329 - accuracy: 0.5248 - val_loss: 5.2797 - val_accuracy: 0.1870\n",
      "Epoch 7/800000\n",
      "327/327 [==============================] - 4s 13ms/step - loss: 1.0994 - accuracy: 0.5490 - val_loss: 5.2943 - val_accuracy: 0.0978\n",
      "Epoch 8/800000\n",
      "327/327 [==============================] - 4s 13ms/step - loss: 1.0591 - accuracy: 0.5539 - val_loss: 5.2448 - val_accuracy: 0.1430\n",
      "Epoch 9/800000\n",
      "327/327 [==============================] - 4s 13ms/step - loss: 1.0277 - accuracy: 0.5685 - val_loss: 5.3172 - val_accuracy: 0.1357\n",
      "Epoch 10/800000\n",
      "327/327 [==============================] - 4s 13ms/step - loss: 1.0122 - accuracy: 0.5774 - val_loss: 4.7886 - val_accuracy: 0.1381\n",
      "Epoch 11/800000\n",
      "327/327 [==============================] - 4s 13ms/step - loss: 0.9970 - accuracy: 0.5857 - val_loss: 4.2415 - val_accuracy: 0.1149\n",
      "Epoch 12/800000\n",
      "327/327 [==============================] - 4s 13ms/step - loss: 0.9819 - accuracy: 0.5875 - val_loss: 4.6873 - val_accuracy: 0.1198\n",
      "Epoch 13/800000\n",
      "327/327 [==============================] - 4s 13ms/step - loss: 0.9630 - accuracy: 0.6089 - val_loss: 4.9348 - val_accuracy: 0.0892\n",
      "Epoch 14/800000\n",
      "327/327 [==============================] - 4s 13ms/step - loss: 0.9602 - accuracy: 0.6172 - val_loss: 4.6839 - val_accuracy: 0.1455\n",
      "Epoch 15/800000\n",
      "327/327 [==============================] - 4s 13ms/step - loss: 0.9364 - accuracy: 0.6129 - val_loss: 4.5731 - val_accuracy: 0.1577\n",
      "Epoch 16/800000\n",
      "327/327 [==============================] - 4s 13ms/step - loss: 0.9330 - accuracy: 0.6178 - val_loss: 4.8616 - val_accuracy: 0.1345\n",
      "Epoch 17/800000\n",
      "327/327 [==============================] - 4s 13ms/step - loss: 0.9100 - accuracy: 0.6154 - val_loss: 4.2181 - val_accuracy: 0.1369\n",
      "Epoch 18/800000\n",
      "327/327 [==============================] - 4s 13ms/step - loss: 0.9078 - accuracy: 0.6242 - val_loss: 4.5085 - val_accuracy: 0.1296\n",
      "Epoch 19/800000\n",
      "327/327 [==============================] - 4s 13ms/step - loss: 0.8875 - accuracy: 0.6389 - val_loss: 4.5919 - val_accuracy: 0.1577\n",
      "Epoch 20/800000\n",
      "327/327 [==============================] - 4s 13ms/step - loss: 0.8786 - accuracy: 0.6365 - val_loss: 4.3850 - val_accuracy: 0.1614\n",
      "Epoch 21/800000\n",
      "327/327 [==============================] - 4s 13ms/step - loss: 0.8713 - accuracy: 0.6417 - val_loss: 4.6080 - val_accuracy: 0.1430\n",
      "Epoch 22/800000\n",
      "327/327 [==============================] - 4s 13ms/step - loss: 0.8623 - accuracy: 0.6386 - val_loss: 3.7530 - val_accuracy: 0.1308\n",
      "Epoch 23/800000\n",
      "327/327 [==============================] - 4s 13ms/step - loss: 0.8388 - accuracy: 0.6591 - val_loss: 4.7306 - val_accuracy: 0.1614\n",
      "Epoch 24/800000\n",
      "327/327 [==============================] - 4s 13ms/step - loss: 0.8384 - accuracy: 0.6545 - val_loss: 3.9249 - val_accuracy: 0.1491\n",
      "Epoch 25/800000\n",
      "327/327 [==============================] - 4s 13ms/step - loss: 0.8276 - accuracy: 0.6591 - val_loss: 4.1055 - val_accuracy: 0.1430\n",
      "Epoch 26/800000\n",
      "327/327 [==============================] - 4s 13ms/step - loss: 0.8249 - accuracy: 0.6634 - val_loss: 4.0361 - val_accuracy: 0.1284\n",
      "Epoch 27/800000\n",
      "327/327 [==============================] - 4s 13ms/step - loss: 0.8100 - accuracy: 0.6631 - val_loss: 4.2586 - val_accuracy: 0.1296\n",
      "Epoch 28/800000\n",
      "327/327 [==============================] - 4s 13ms/step - loss: 0.8281 - accuracy: 0.6701 - val_loss: 4.5144 - val_accuracy: 0.1553\n",
      "Epoch 29/800000\n",
      "327/327 [==============================] - 4s 13ms/step - loss: 0.8040 - accuracy: 0.6686 - val_loss: 4.4409 - val_accuracy: 0.1406\n",
      "Epoch 30/800000\n",
      "327/327 [==============================] - 4s 13ms/step - loss: 0.8015 - accuracy: 0.6643 - val_loss: 4.2482 - val_accuracy: 0.1699\n",
      "Epoch 31/800000\n",
      "327/327 [==============================] - 4s 13ms/step - loss: 0.7965 - accuracy: 0.6775 - val_loss: 4.2565 - val_accuracy: 0.1430\n",
      "Epoch 32/800000\n",
      "327/327 [==============================] - 4s 13ms/step - loss: 0.7788 - accuracy: 0.6827 - val_loss: 4.1810 - val_accuracy: 0.1516\n"
     ]
    }
   ],
   "source": [
    "#imply learning\n",
    "\n",
    "import keras\n",
    "from keras.callbacks import EarlyStopping\n",
    "\n",
    "# early stopping callback\n",
    "# This callback will stop the training when there is no improvement in  \n",
    "# the validation loss for 10 consecutive epochs.  \n",
    "es = keras.callbacks.EarlyStopping(monitor='val_loss', \n",
    "                                   mode='min',\n",
    "                                   patience=10, \n",
    "                                   restore_best_weights=True) # important - otherwise you just return the last weigths...\n",
    "\n",
    "# now we just update our model fit call\n",
    "history = model.fit(X,\n",
    "                    dummy_y,\n",
    "                    callbacks=[es],\n",
    "                    epochs=800000, # you can set this to a big number!\n",
    "                    batch_size=10,\n",
    "                    shuffle=True,\n",
    "                    validation_split=0.2,\n",
    "                    verbose=1)"
   ]
  },
  {
   "cell_type": "code",
   "execution_count": 37,
   "id": "05e8ebe2",
   "metadata": {},
   "outputs": [
    {
     "data": {
      "image/png": "[encoded data removed]",
      "text/plain": [
       "<Figure size 640x480 with 1 Axes>"
      ]
     },
     "metadata": {},
     "output_type": "display_data"
    }
   ],
   "source": [
    "#check the train and test\n",
    "\n",
    "import matplotlib.pyplot as plt\n",
    "\n",
    "history_dict = history.history\n",
    "\n",
    "# learning curve\n",
    "# accuracy\n",
    "acc = history_dict['accuracy']\n",
    "val_acc = history_dict['val_accuracy']\n",
    "\n",
    "# loss\n",
    "loss = history_dict['loss']\n",
    "val_loss = history_dict['val_loss']\n",
    "\n",
    "# range of X (no. of epochs)\n",
    "epochs = range(1, len(acc) + 1)\n",
    "\n",
    "# plot\n",
    "# \"r\" is for \"solid red line\"\n",
    "plt.plot(epochs, acc, 'r', label='Training accuracy')\n",
    "# b is for \"solid blue line\"\n",
    "plt.plot(epochs, val_acc, 'b', label='Validation accuracy')\n",
    "plt.title('Training and validation accuracy')\n",
    "plt.xlabel('Epochs')\n",
    "plt.ylabel('Accuracy')\n",
    "plt.legend()\n",
    "\n",
    "plt.show()"
   ]
  },
  {
   "cell_type": "code",
   "execution_count": 38,
   "id": "1bd09ebd",
   "metadata": {},
   "outputs": [
    {
     "name": "stdout",
     "output_type": "stream",
     "text": [
      "\r",
      "  1/128 [..............................] - ETA: 28s"
     ]
    },
    {
     "name": "stderr",
     "output_type": "stream",
     "text": [
      "2022-11-14 17:59:47.124011: I tensorflow/core/grappler/optimizers/custom_graph_optimizer_registry.cc:114] Plugin optimizer for device_type GPU is enabled.\n"
     ]
    },
    {
     "name": "stdout",
     "output_type": "stream",
     "text": [
      "128/128 [==============================] - 0s 2ms/step\n",
      "[9.3639158e-02 4.0526170e-01 3.9849228e-01 1.0171038e-01 8.9655753e-04\n",
      " 6.9192846e-10]\n",
      "1.0\n",
      "              precision    recall  f1-score   support\n",
      "\n",
      "           0       0.67      1.00      0.80       681\n",
      "           1       0.62      0.62      0.62       681\n",
      "           2       0.54      0.54      0.54       681\n",
      "           3       0.34      0.29      0.31       681\n",
      "           4       0.40      0.66      0.50       681\n",
      "           5       0.00      0.00      0.00       681\n",
      "\n",
      "    accuracy                           0.52      4086\n",
      "   macro avg       0.43      0.52      0.46      4086\n",
      "weighted avg       0.43      0.52      0.46      4086\n",
      "\n"
     ]
    },
    {
     "name": "stderr",
     "output_type": "stream",
     "text": [
      "/opt/homebrew/Caskroom/miniforge/base/envs/mlp/lib/python3.8/site-packages/sklearn/metrics/_classification.py:1334: UndefinedMetricWarning: Precision and F-score are ill-defined and being set to 0.0 in labels with no predicted samples. Use `zero_division` parameter to control this behavior.\n",
      "  _warn_prf(average, modifier, msg_start, len(result))\n",
      "/opt/homebrew/Caskroom/miniforge/base/envs/mlp/lib/python3.8/site-packages/sklearn/metrics/_classification.py:1334: UndefinedMetricWarning: Precision and F-score are ill-defined and being set to 0.0 in labels with no predicted samples. Use `zero_division` parameter to control this behavior.\n",
      "  _warn_prf(average, modifier, msg_start, len(result))\n",
      "/opt/homebrew/Caskroom/miniforge/base/envs/mlp/lib/python3.8/site-packages/sklearn/metrics/_classification.py:1334: UndefinedMetricWarning: Precision and F-score are ill-defined and being set to 0.0 in labels with no predicted samples. Use `zero_division` parameter to control this behavior.\n",
      "  _warn_prf(average, modifier, msg_start, len(result))\n"
     ]
    }
   ],
   "source": [
    "#detail info, need to be studied\n",
    "\n",
    "from sklearn.metrics import confusion_matrix\n",
    "from sklearn.metrics import classification_report\n",
    "\n",
    "preds = model.predict(X) # see how the model did!\n",
    "print(preds[0]) # i'm spreading that prediction across three nodes and they sum to 1\n",
    "print(np.sum(preds[0])) # sum it up! Should be 1\n",
    "## [9.9999988e-01 1.3509347e-07 6.7064638e-16]\n",
    "## 1.0\n",
    "\n",
    "# Almost a perfect prediction\n",
    "# actual is left, predicted is top\n",
    "# names can be found by inspecting Y\n",
    "matrix = confusion_matrix(dummy_y.argmax(axis=1), preds.argmax(axis=1))\n",
    "matrix\n",
    "## array([[50,  0,  0],\n",
    "##        [ 0, 46,  4],\n",
    "##        [ 0,  1, 49]])\n",
    "\n",
    "\n",
    "# more detail on how well things were predicted\n",
    "print(classification_report(dummy_y.argmax(axis=1), preds.argmax(axis=1)))"
   ]
  },
  {
   "cell_type": "code",
   "execution_count": 94,
   "id": "cf192614",
   "metadata": {},
   "outputs": [],
   "source": [
    "############################################################################\n",
    "################\n",
    "#After here, its useless for now!"
   ]
  },
  {
   "cell_type": "code",
   "execution_count": null,
   "id": "0e846be9",
   "metadata": {},
   "outputs": [],
   "source": []
  },
  {
   "cell_type": "code",
   "execution_count": 51,
   "id": "a3b2f021",
   "metadata": {},
   "outputs": [
    {
     "name": "stdout",
     "output_type": "stream",
     "text": [
      "Epoch 1/10\n"
     ]
    },
    {
     "name": "stderr",
     "output_type": "stream",
     "text": [
      "2022-11-13 18:22:19.654936: I tensorflow/core/grappler/optimizers/custom_graph_optimizer_registry.cc:114] Plugin optimizer for device_type GPU is enabled.\n"
     ]
    },
    {
     "name": "stdout",
     "output_type": "stream",
     "text": [
      "307/307 [==============================] - 3s 8ms/step - loss: 0.0000e+00 - accuracy: 0.1697\n",
      "Epoch 2/10\n",
      "307/307 [==============================] - 2s 8ms/step - loss: 0.0000e+00 - accuracy: 0.1697\n",
      "Epoch 3/10\n",
      "307/307 [==============================] - 2s 8ms/step - loss: 0.0000e+00 - accuracy: 0.1697\n",
      "Epoch 4/10\n",
      "307/307 [==============================] - 2s 8ms/step - loss: 0.0000e+00 - accuracy: 0.1697\n",
      "Epoch 5/10\n",
      "307/307 [==============================] - 2s 8ms/step - loss: 0.0000e+00 - accuracy: 0.1697\n",
      "Epoch 6/10\n",
      "307/307 [==============================] - 2s 8ms/step - loss: 0.0000e+00 - accuracy: 0.1697\n",
      "Epoch 7/10\n",
      "307/307 [==============================] - 2s 8ms/step - loss: 0.0000e+00 - accuracy: 0.1697\n",
      "Epoch 8/10\n",
      "307/307 [==============================] - 2s 8ms/step - loss: 0.0000e+00 - accuracy: 0.1697\n",
      "Epoch 9/10\n",
      "307/307 [==============================] - 2s 8ms/step - loss: 0.0000e+00 - accuracy: 0.1697\n",
      "Epoch 10/10\n",
      "307/307 [==============================] - 2s 8ms/step - loss: 0.0000e+00 - accuracy: 0.1697\n"
     ]
    },
    {
     "data": {
      "text/plain": [
       "<keras.callbacks.History at 0x2cc7c22e0>"
      ]
     },
     "execution_count": 51,
     "metadata": {},
     "output_type": "execute_result"
    }
   ],
   "source": [
    "model = keras.Sequential([\n",
    "\n",
    "keras.layers.Dense(6, input_dim = 11, activation = 'softmax'),\n",
    "keras.layers.Dense(3, activation = 'softmax'),\n",
    "keras.layers.Dense(1, activation = 'softmax')\n",
    "])\n",
    "\n",
    "model.compile(loss = 'categorical_crossentropy', optimizer = 'sgd', metrics = ['accuracy'])\n",
    "\n",
    "model.fit(x_train, y_train, batch_size = 10, epochs = 10)"
   ]
  },
  {
   "cell_type": "code",
   "execution_count": 55,
   "id": "9f0cb6ea",
   "metadata": {},
   "outputs": [
    {
     "name": "stdout",
     "output_type": "stream",
     "text": [
      "16/32 [==============>...............] - ETA: 0s - loss: 0.0000e+00 - accuracy: 0.1602"
     ]
    },
    {
     "name": "stderr",
     "output_type": "stream",
     "text": [
      "2022-11-13 18:24:57.421265: I tensorflow/core/grappler/optimizers/custom_graph_optimizer_registry.cc:114] Plugin optimizer for device_type GPU is enabled.\n"
     ]
    },
    {
     "name": "stdout",
     "output_type": "stream",
     "text": [
      "32/32 [==============================] - 0s 7ms/step - loss: 0.0000e+00 - accuracy: 0.1575\n"
     ]
    },
    {
     "data": {
      "text/plain": [
       "[0.0, 0.15753424167633057]"
      ]
     },
     "execution_count": 55,
     "metadata": {},
     "output_type": "execute_result"
    }
   ],
   "source": [
    "model.evaluate(x_test, y_test)"
   ]
  },
  {
   "cell_type": "code",
   "execution_count": 56,
   "id": "65b8b93f",
   "metadata": {},
   "outputs": [
    {
     "name": "stdout",
     "output_type": "stream",
     "text": [
      "32/32 [==============================] - 0s 2ms/step\n",
      "[1. 1. 1. 1. 1. 1. 1. 1. 1. 1.]\n"
     ]
    },
    {
     "name": "stderr",
     "output_type": "stream",
     "text": [
      "2022-11-13 18:25:05.438780: I tensorflow/core/grappler/optimizers/custom_graph_optimizer_registry.cc:114] Plugin optimizer for device_type GPU is enabled.\n"
     ]
    }
   ],
   "source": [
    "y_pred = model.predict(x_test).reshape(-1)\n",
    "print(y_pred[:10])\n",
    "\n",
    "y_pred = np.round(y_pred)"
   ]
  },
  {
   "cell_type": "code",
   "execution_count": null,
   "id": "fa94cc96",
   "metadata": {},
   "outputs": [],
   "source": []
  }
 ],
 "metadata": {
  "kernelspec": {
   "display_name": "Python 3 (ipykernel)",
   "language": "python",
   "name": "python3"
  },
  "language_info": {
   "codemirror_mode": {
    "name": "ipython",
    "version": 3
   },
   "file_extension": ".py",
   "mimetype": "text/x-python",
   "name": "python",
   "nbconvert_exporter": "python",
   "pygments_lexer": "ipython3",
   "version": "3.8.13"
  }
 },
 "nbformat": 4,
 "nbformat_minor": 5
}
