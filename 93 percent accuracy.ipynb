{
 "cells": [
  {
   "cell_type": "code",
   "execution_count": 1,
   "id": "4860fc11",
   "metadata": {},
   "outputs": [],
   "source": [
    "import numpy as np\n",
    "import pandas as pd\n",
    "from sklearn.preprocessing import StandardScaler\n",
    "from imblearn.over_sampling import RandomOverSampler\n",
    "from sklearn.model_selection import train_test_split\n",
    "import tensorflow as tf\n",
    "from tensorflow import keras\n",
    "from sklearn.metrics import confusion_matrix, classification_report\n",
    "from collections import Counter\n",
    "from scipy.ndimage import convolve1d\n",
    "import utils\n",
    "import torch\n",
    "from sklearn.preprocessing import LabelEncoder\n",
    "from imblearn.over_sampling import SMOTE\n",
    "from matplotlib import pyplot\n",
    "\n",
    "\n"
   ]
  },
  {
   "cell_type": "code",
   "execution_count": 2,
   "id": "b2906cc6",
   "metadata": {},
   "outputs": [
    {
     "data": {
      "text/html": [
       "<div>\n",
       "<style scoped>\n",
       "    .dataframe tbody tr th:only-of-type {\n",
       "        vertical-align: middle;\n",
       "    }\n",
       "\n",
       "    .dataframe tbody tr th {\n",
       "        vertical-align: top;\n",
       "    }\n",
       "\n",
       "    .dataframe thead th {\n",
       "        text-align: right;\n",
       "    }\n",
       "</style>\n",
       "<table border=\"1\" class=\"dataframe\">\n",
       "  <thead>\n",
       "    <tr style=\"text-align: right;\">\n",
       "      <th></th>\n",
       "      <th>fix_acidity</th>\n",
       "      <th>vol_acidity</th>\n",
       "      <th>critic_acidity</th>\n",
       "      <th>res_sugar</th>\n",
       "      <th>chloride</th>\n",
       "      <th>free_SO2</th>\n",
       "      <th>tot_SO2</th>\n",
       "      <th>density</th>\n",
       "      <th>pH</th>\n",
       "      <th>sulphate</th>\n",
       "      <th>alcohol</th>\n",
       "      <th>class</th>\n",
       "    </tr>\n",
       "  </thead>\n",
       "  <tbody>\n",
       "    <tr>\n",
       "      <th>0</th>\n",
       "      <td>7.4</td>\n",
       "      <td>0.700</td>\n",
       "      <td>0.00</td>\n",
       "      <td>1.9</td>\n",
       "      <td>0.076</td>\n",
       "      <td>11.0</td>\n",
       "      <td>34.0</td>\n",
       "      <td>0.99780</td>\n",
       "      <td>3.51</td>\n",
       "      <td>0.56</td>\n",
       "      <td>9.4</td>\n",
       "      <td>5</td>\n",
       "    </tr>\n",
       "    <tr>\n",
       "      <th>1</th>\n",
       "      <td>7.8</td>\n",
       "      <td>0.880</td>\n",
       "      <td>0.00</td>\n",
       "      <td>2.6</td>\n",
       "      <td>0.098</td>\n",
       "      <td>25.0</td>\n",
       "      <td>67.0</td>\n",
       "      <td>0.99680</td>\n",
       "      <td>3.20</td>\n",
       "      <td>0.68</td>\n",
       "      <td>9.8</td>\n",
       "      <td>5</td>\n",
       "    </tr>\n",
       "    <tr>\n",
       "      <th>2</th>\n",
       "      <td>7.8</td>\n",
       "      <td>0.760</td>\n",
       "      <td>0.04</td>\n",
       "      <td>2.3</td>\n",
       "      <td>0.092</td>\n",
       "      <td>15.0</td>\n",
       "      <td>54.0</td>\n",
       "      <td>0.99700</td>\n",
       "      <td>3.26</td>\n",
       "      <td>0.65</td>\n",
       "      <td>9.8</td>\n",
       "      <td>5</td>\n",
       "    </tr>\n",
       "    <tr>\n",
       "      <th>3</th>\n",
       "      <td>11.2</td>\n",
       "      <td>0.280</td>\n",
       "      <td>0.56</td>\n",
       "      <td>1.9</td>\n",
       "      <td>0.075</td>\n",
       "      <td>17.0</td>\n",
       "      <td>60.0</td>\n",
       "      <td>0.99800</td>\n",
       "      <td>3.16</td>\n",
       "      <td>0.58</td>\n",
       "      <td>9.8</td>\n",
       "      <td>6</td>\n",
       "    </tr>\n",
       "    <tr>\n",
       "      <th>4</th>\n",
       "      <td>7.4</td>\n",
       "      <td>0.700</td>\n",
       "      <td>0.00</td>\n",
       "      <td>1.9</td>\n",
       "      <td>0.076</td>\n",
       "      <td>11.0</td>\n",
       "      <td>34.0</td>\n",
       "      <td>0.99780</td>\n",
       "      <td>3.51</td>\n",
       "      <td>0.56</td>\n",
       "      <td>9.4</td>\n",
       "      <td>5</td>\n",
       "    </tr>\n",
       "    <tr>\n",
       "      <th>...</th>\n",
       "      <td>...</td>\n",
       "      <td>...</td>\n",
       "      <td>...</td>\n",
       "      <td>...</td>\n",
       "      <td>...</td>\n",
       "      <td>...</td>\n",
       "      <td>...</td>\n",
       "      <td>...</td>\n",
       "      <td>...</td>\n",
       "      <td>...</td>\n",
       "      <td>...</td>\n",
       "      <td>...</td>\n",
       "    </tr>\n",
       "    <tr>\n",
       "      <th>1594</th>\n",
       "      <td>6.2</td>\n",
       "      <td>0.600</td>\n",
       "      <td>0.08</td>\n",
       "      <td>2.0</td>\n",
       "      <td>0.090</td>\n",
       "      <td>32.0</td>\n",
       "      <td>44.0</td>\n",
       "      <td>0.99490</td>\n",
       "      <td>3.45</td>\n",
       "      <td>0.58</td>\n",
       "      <td>10.5</td>\n",
       "      <td>5</td>\n",
       "    </tr>\n",
       "    <tr>\n",
       "      <th>1595</th>\n",
       "      <td>5.9</td>\n",
       "      <td>0.550</td>\n",
       "      <td>0.10</td>\n",
       "      <td>2.2</td>\n",
       "      <td>0.062</td>\n",
       "      <td>39.0</td>\n",
       "      <td>51.0</td>\n",
       "      <td>0.99512</td>\n",
       "      <td>3.52</td>\n",
       "      <td>0.76</td>\n",
       "      <td>11.2</td>\n",
       "      <td>6</td>\n",
       "    </tr>\n",
       "    <tr>\n",
       "      <th>1596</th>\n",
       "      <td>6.3</td>\n",
       "      <td>0.510</td>\n",
       "      <td>0.13</td>\n",
       "      <td>2.3</td>\n",
       "      <td>0.076</td>\n",
       "      <td>29.0</td>\n",
       "      <td>40.0</td>\n",
       "      <td>0.99574</td>\n",
       "      <td>3.42</td>\n",
       "      <td>0.75</td>\n",
       "      <td>11.0</td>\n",
       "      <td>6</td>\n",
       "    </tr>\n",
       "    <tr>\n",
       "      <th>1597</th>\n",
       "      <td>5.9</td>\n",
       "      <td>0.645</td>\n",
       "      <td>0.12</td>\n",
       "      <td>2.0</td>\n",
       "      <td>0.075</td>\n",
       "      <td>32.0</td>\n",
       "      <td>44.0</td>\n",
       "      <td>0.99547</td>\n",
       "      <td>3.57</td>\n",
       "      <td>0.71</td>\n",
       "      <td>10.2</td>\n",
       "      <td>5</td>\n",
       "    </tr>\n",
       "    <tr>\n",
       "      <th>1598</th>\n",
       "      <td>6.0</td>\n",
       "      <td>0.310</td>\n",
       "      <td>0.47</td>\n",
       "      <td>3.6</td>\n",
       "      <td>0.067</td>\n",
       "      <td>18.0</td>\n",
       "      <td>42.0</td>\n",
       "      <td>0.99549</td>\n",
       "      <td>3.39</td>\n",
       "      <td>0.66</td>\n",
       "      <td>11.0</td>\n",
       "      <td>6</td>\n",
       "    </tr>\n",
       "  </tbody>\n",
       "</table>\n",
       "<p>1599 rows × 12 columns</p>\n",
       "</div>"
      ],
      "text/plain": [
       "      fix_acidity  vol_acidity  critic_acidity  res_sugar  chloride  free_SO2  \\\n",
       "0             7.4        0.700            0.00        1.9     0.076      11.0   \n",
       "1             7.8        0.880            0.00        2.6     0.098      25.0   \n",
       "2             7.8        0.760            0.04        2.3     0.092      15.0   \n",
       "3            11.2        0.280            0.56        1.9     0.075      17.0   \n",
       "4             7.4        0.700            0.00        1.9     0.076      11.0   \n",
       "...           ...          ...             ...        ...       ...       ...   \n",
       "1594          6.2        0.600            0.08        2.0     0.090      32.0   \n",
       "1595          5.9        0.550            0.10        2.2     0.062      39.0   \n",
       "1596          6.3        0.510            0.13        2.3     0.076      29.0   \n",
       "1597          5.9        0.645            0.12        2.0     0.075      32.0   \n",
       "1598          6.0        0.310            0.47        3.6     0.067      18.0   \n",
       "\n",
       "      tot_SO2  density    pH  sulphate  alcohol  class  \n",
       "0        34.0  0.99780  3.51      0.56      9.4      5  \n",
       "1        67.0  0.99680  3.20      0.68      9.8      5  \n",
       "2        54.0  0.99700  3.26      0.65      9.8      5  \n",
       "3        60.0  0.99800  3.16      0.58      9.8      6  \n",
       "4        34.0  0.99780  3.51      0.56      9.4      5  \n",
       "...       ...      ...   ...       ...      ...    ...  \n",
       "1594     44.0  0.99490  3.45      0.58     10.5      5  \n",
       "1595     51.0  0.99512  3.52      0.76     11.2      6  \n",
       "1596     40.0  0.99574  3.42      0.75     11.0      6  \n",
       "1597     44.0  0.99547  3.57      0.71     10.2      5  \n",
       "1598     42.0  0.99549  3.39      0.66     11.0      6  \n",
       "\n",
       "[1599 rows x 12 columns]"
      ]
     },
     "execution_count": 2,
     "metadata": {},
     "output_type": "execute_result"
    }
   ],
   "source": [
    "cols = [\"fix_acidity\", \"vol_acidity\", \"critic_acidity\", \"res_sugar\", \"chloride\", \"free_SO2\", \"tot_SO2\", \"density\", \"pH\",\"sulphate\", \"alcohol\", \"class\"] # Quality is class\n",
    "\n",
    "df = pd.read_csv(\"winequality-red.csv\", names = cols, delimiter=\";\", header=0)\n",
    "\n",
    "\n",
    "#df = df.loc[:, ['fix_acidity', 'vol_acidity', 'critic_acidity', 'alcohol','class']]\n",
    "df"
   ]
  },
  {
   "cell_type": "code",
   "execution_count": 3,
   "id": "42d1c22b",
   "metadata": {},
   "outputs": [],
   "source": [
    "#change data type to value\n",
    "data = df.values"
   ]
  },
  {
   "cell_type": "code",
   "execution_count": 5,
   "id": "d870749f",
   "metadata": {},
   "outputs": [],
   "source": [
    "#separating the X, y. They are the class and atributes and should be separated for the rest of the calculations.\n",
    "X, y = data[:, :-1], data[:, -1]\n",
    "scaler = StandardScaler()\n",
    "X = scaler.fit_transform(X)"
   ]
  },
  {
   "cell_type": "code",
   "execution_count": 6,
   "id": "35f3dcf0",
   "metadata": {},
   "outputs": [],
   "source": [
    "#we do necessary changes for the oversampling method SMOTE, since data is imbalanced.\n",
    "y = LabelEncoder().fit_transform(y)"
   ]
  },
  {
   "cell_type": "code",
   "execution_count": 7,
   "id": "bc008bf6",
   "metadata": {},
   "outputs": [],
   "source": [
    "oversample = SMOTE()\n",
    "X, y = oversample.fit_resample(X, y)"
   ]
  },
  {
   "cell_type": "code",
   "execution_count": 8,
   "id": "2d191454",
   "metadata": {},
   "outputs": [],
   "source": [
    "counter = Counter(y)\n"
   ]
  },
  {
   "cell_type": "code",
   "execution_count": 9,
   "id": "b6682013",
   "metadata": {},
   "outputs": [
    {
     "name": "stdout",
     "output_type": "stream",
     "text": [
      "Class=2, n=681 (16.667%)\n",
      "Class=3, n=681 (16.667%)\n",
      "Class=4, n=681 (16.667%)\n",
      "Class=1, n=681 (16.667%)\n",
      "Class=5, n=681 (16.667%)\n",
      "Class=0, n=681 (16.667%)\n"
     ]
    },
    {
     "data": {
      "image/png": "[encoded data removed]",
      "text/plain": [
       "<Figure size 640x480 with 1 Axes>"
      ]
     },
     "metadata": {},
     "output_type": "display_data"
    }
   ],
   "source": [
    "#the data becomes balanced, we just have the class from 3 to 8 available data.\n",
    "#This data is shown by 0 to 5 (6 classes) in the x-axis, y-axis number of instances\n",
    "\n",
    "for k,v in counter.items():\n",
    "\tper = v / len(y) * 100\n",
    "\tprint('Class=%d, n=%d (%.3f%%)' % (k, v, per))\n",
    "# plot the distribution\n",
    "pyplot.bar(counter.keys(), counter.values())\n",
    "pyplot.show()"
   ]
  },
  {
   "cell_type": "code",
   "execution_count": 10,
   "id": "f8a3f003",
   "metadata": {
    "scrolled": true
   },
   "outputs": [
    {
     "data": {
      "text/plain": [
       "(4086,)"
      ]
     },
     "execution_count": 10,
     "metadata": {},
     "output_type": "execute_result"
    }
   ],
   "source": [
    "y.shape"
   ]
  },
  {
   "cell_type": "code",
   "execution_count": 11,
   "id": "084d17ef",
   "metadata": {
    "scrolled": true
   },
   "outputs": [
    {
     "data": {
      "text/plain": [
       "array([[-0.52835961,  0.96187667, -1.39147228, ...,  1.28864292,\n",
       "        -0.57920652, -0.96024611],\n",
       "       [-0.29854743,  1.96744245, -1.39147228, ..., -0.7199333 ,\n",
       "         0.1289504 , -0.58477711],\n",
       "       [-0.29854743,  1.29706527, -1.18607043, ..., -0.33117661,\n",
       "        -0.04808883, -0.58477711],\n",
       "       ...,\n",
       "       [-0.63732878, -1.09646047,  0.29513351, ..., -0.52220727,\n",
       "         2.48553714, -0.32914411],\n",
       "       [-0.38671243, -0.75452129,  0.33142207, ..., -0.27755914,\n",
       "         0.46929526,  0.94299128],\n",
       "       [ 1.1513147 , -1.26377229,  1.35771701, ..., -1.63623997,\n",
       "        -0.1115599 ,  0.94546271]])"
      ]
     },
     "execution_count": 11,
     "metadata": {},
     "output_type": "execute_result"
    }
   ],
   "source": [
    "X"
   ]
  },
  {
   "cell_type": "code",
   "execution_count": 12,
   "id": "500a0d33",
   "metadata": {},
   "outputs": [
    {
     "data": {
      "text/plain": [
       "array([2, 2, 2, ..., 5, 5, 5])"
      ]
     },
     "execution_count": 12,
     "metadata": {},
     "output_type": "execute_result"
    }
   ],
   "source": [
    "y"
   ]
  },
  {
   "cell_type": "code",
   "execution_count": 13,
   "id": "fd741370",
   "metadata": {},
   "outputs": [],
   "source": [
    "import matplotlib.pyplot as plt\n"
   ]
  },
  {
   "cell_type": "code",
   "execution_count": 14,
   "id": "251088c5",
   "metadata": {},
   "outputs": [
    {
     "name": "stdout",
     "output_type": "stream",
     "text": [
      "[2 2 2 ... 5 5 5]\n"
     ]
    }
   ],
   "source": [
    "#we start the neural network method\n",
    "#encode to numpy array\n",
    "\n",
    "\n",
    "from keras.utils import np_utils\n",
    "\n",
    "\n",
    "encoder = LabelEncoder()\n",
    "encoder.fit(y)\n",
    "encoded_Y = encoder.transform(y)\n",
    "# convert integers to dummy variables (i.e. one hot encoded)\n",
    "dummy_y = np_utils.to_categorical(encoded_Y)\n",
    "\n",
    "print(encoded_Y)"
   ]
  },
  {
   "cell_type": "code",
   "execution_count": 15,
   "id": "d9752d57",
   "metadata": {},
   "outputs": [],
   "source": [
    "#optimizer can be Adam \n",
    "#loss function should be categorical_crossentropy\n",
    "#EarlyStopping callbacks to prevent overfitting\n",
    "\n",
    "from keras.wrappers.scikit_learn import KerasClassifier\n",
    "from keras.utils import np_utils\n",
    "\n",
    "# for modeling\n",
    "from keras.models import Sequential\n",
    "from keras.layers import Dense, Dropout\n",
    "from keras.callbacks import EarlyStopping"
   ]
  },
  {
   "cell_type": "code",
   "execution_count": 16,
   "id": "67d17e1f",
   "metadata": {
    "scrolled": true
   },
   "outputs": [
    {
     "name": "stdout",
     "output_type": "stream",
     "text": [
      "[[0. 0. 1. 0. 0. 0.]\n",
      " [0. 0. 1. 0. 0. 0.]\n",
      " [0. 0. 1. 0. 0. 0.]\n",
      " ...\n",
      " [0. 0. 0. 0. 0. 1.]\n",
      " [0. 0. 0. 0. 0. 1.]\n",
      " [0. 0. 0. 0. 0. 1.]]\n"
     ]
    }
   ],
   "source": [
    "print(dummy_y)\n"
   ]
  },
  {
   "cell_type": "code",
   "execution_count": 17,
   "id": "605678ba",
   "metadata": {},
   "outputs": [
    {
     "name": "stderr",
     "output_type": "stream",
     "text": [
      "2022-11-16 22:16:47.073640: I tensorflow/core/common_runtime/pluggable_device/pluggable_device_factory.cc:306] Could not identify NUMA node of platform GPU ID 0, defaulting to 0. Your kernel may not have been built with NUMA support.\n",
      "2022-11-16 22:16:47.073895: I tensorflow/core/common_runtime/pluggable_device/pluggable_device_factory.cc:272] Created TensorFlow device (/job:localhost/replica:0/task:0/device:GPU:0 with 0 MB memory) -> physical PluggableDevice (device: 0, name: METAL, pci bus id: <undefined>)\n"
     ]
    },
    {
     "name": "stdout",
     "output_type": "stream",
     "text": [
      "Metal device set to: Apple M1\n",
      "Model: \"sequential\"\n",
      "_________________________________________________________________\n",
      " Layer (type)                Output Shape              Param #   \n",
      "=================================================================\n",
      " dense (Dense)               (None, 100)               1200      \n",
      "                                                                 \n",
      " dense_1 (Dense)             (None, 50)                5050      \n",
      "                                                                 \n",
      " dense_2 (Dense)             (None, 20)                1020      \n",
      "                                                                 \n",
      " dense_3 (Dense)             (None, 12)                252       \n",
      "                                                                 \n",
      " dense_4 (Dense)             (None, 6)                 78        \n",
      "                                                                 \n",
      "=================================================================\n",
      "Total params: 7,600\n",
      "Trainable params: 7,600\n",
      "Non-trainable params: 0\n",
      "_________________________________________________________________\n"
     ]
    }
   ],
   "source": [
    "#Neural network model contain two layers of 10 and 6 neurons\n",
    "#\n",
    "\n",
    "model = Sequential()\n",
    "model.add(Dense(100, input_shape=(X.shape[1],), activation='relu')) # input shape is (features,)\n",
    "model.add(Dense(50, input_shape=(X.shape[1],), activation='relu'))\n",
    "model.add(Dense(20, input_shape=(X.shape[1],), activation='relu'))\n",
    "model.add(Dense(12, input_shape=(X.shape[1],), activation='relu'))\n",
    "model.add(Dense(6, activation='softmax'))\n",
    "model.summary()\n",
    "\n",
    "# compile the model\n",
    "model.compile(optimizer='rmsprop', \n",
    "              loss='categorical_crossentropy', # this is different instead of binary_crossentropy (for regular classification)\n",
    "              metrics=['accuracy'])"
   ]
  },
  {
   "cell_type": "code",
   "execution_count": 18,
   "id": "95ce91e8",
   "metadata": {
    "scrolled": false
   },
   "outputs": [
    {
     "name": "stdout",
     "output_type": "stream",
     "text": [
      "Epoch 1/800000\n"
     ]
    },
    {
     "name": "stderr",
     "output_type": "stream",
     "text": [
      "2022-11-16 22:16:49.848349: W tensorflow/core/platform/profile_utils/cpu_utils.cc:128] Failed to get CPU frequency: 0 Hz\n",
      "2022-11-16 22:16:50.076015: I tensorflow/core/grappler/optimizers/custom_graph_optimizer_registry.cc:114] Plugin optimizer for device_type GPU is enabled.\n"
     ]
    },
    {
     "name": "stdout",
     "output_type": "stream",
     "text": [
      "327/327 [==============================] - ETA: 0s - loss: 1.2996 - accuracy: 0.4884"
     ]
    },
    {
     "name": "stderr",
     "output_type": "stream",
     "text": [
      "2022-11-16 22:16:57.153532: I tensorflow/core/grappler/optimizers/custom_graph_optimizer_registry.cc:114] Plugin optimizer for device_type GPU is enabled.\n"
     ]
    },
    {
     "name": "stdout",
     "output_type": "stream",
     "text": [
      "327/327 [==============================] - 8s 17ms/step - loss: 1.2996 - accuracy: 0.4884 - val_loss: 3.9352 - val_accuracy: 0.1333\n",
      "Epoch 2/800000\n",
      "327/327 [==============================] - 5s 14ms/step - loss: 0.8965 - accuracy: 0.6570 - val_loss: 4.3855 - val_accuracy: 0.1333\n",
      "Epoch 3/800000\n",
      "327/327 [==============================] - 5s 14ms/step - loss: 0.7793 - accuracy: 0.6989 - val_loss: 3.8330 - val_accuracy: 0.1369\n",
      "Epoch 4/800000\n",
      "327/327 [==============================] - 5s 14ms/step - loss: 0.7152 - accuracy: 0.7124 - val_loss: 3.9606 - val_accuracy: 0.1174\n",
      "Epoch 5/800000\n",
      "327/327 [==============================] - 5s 15ms/step - loss: 0.6680 - accuracy: 0.7378 - val_loss: 4.0906 - val_accuracy: 0.1638\n",
      "Epoch 6/800000\n",
      "327/327 [==============================] - 5s 14ms/step - loss: 0.6307 - accuracy: 0.7503 - val_loss: 3.7135 - val_accuracy: 0.1528\n",
      "Epoch 7/800000\n",
      "327/327 [==============================] - 5s 14ms/step - loss: 0.5987 - accuracy: 0.7632 - val_loss: 3.5767 - val_accuracy: 0.1467\n",
      "Epoch 8/800000\n",
      "327/327 [==============================] - 5s 14ms/step - loss: 0.5681 - accuracy: 0.7766 - val_loss: 3.5955 - val_accuracy: 0.1345\n",
      "Epoch 9/800000\n",
      "327/327 [==============================] - 5s 14ms/step - loss: 0.5443 - accuracy: 0.7858 - val_loss: 3.4143 - val_accuracy: 0.1320\n",
      "Epoch 10/800000\n",
      "327/327 [==============================] - 5s 14ms/step - loss: 0.5229 - accuracy: 0.7919 - val_loss: 3.5326 - val_accuracy: 0.1540\n",
      "Epoch 11/800000\n",
      "327/327 [==============================] - 5s 14ms/step - loss: 0.5018 - accuracy: 0.7965 - val_loss: 3.2727 - val_accuracy: 0.1491\n",
      "Epoch 12/800000\n",
      "327/327 [==============================] - 5s 14ms/step - loss: 0.4821 - accuracy: 0.8072 - val_loss: 3.1481 - val_accuracy: 0.1333\n",
      "Epoch 13/800000\n",
      "327/327 [==============================] - 5s 14ms/step - loss: 0.4683 - accuracy: 0.8146 - val_loss: 3.0580 - val_accuracy: 0.1565\n",
      "Epoch 14/800000\n",
      "327/327 [==============================] - 5s 14ms/step - loss: 0.4520 - accuracy: 0.8158 - val_loss: 3.3557 - val_accuracy: 0.1626\n",
      "Epoch 15/800000\n",
      "327/327 [==============================] - 5s 14ms/step - loss: 0.4381 - accuracy: 0.8195 - val_loss: 3.1698 - val_accuracy: 0.1553\n",
      "Epoch 16/800000\n",
      "327/327 [==============================] - 5s 14ms/step - loss: 0.4267 - accuracy: 0.8280 - val_loss: 2.8579 - val_accuracy: 0.1577\n",
      "Epoch 17/800000\n",
      "327/327 [==============================] - 5s 14ms/step - loss: 0.4116 - accuracy: 0.8302 - val_loss: 3.2839 - val_accuracy: 0.1760\n",
      "Epoch 18/800000\n",
      "327/327 [==============================] - 5s 15ms/step - loss: 0.4013 - accuracy: 0.8360 - val_loss: 3.2427 - val_accuracy: 0.1528\n",
      "Epoch 19/800000\n",
      "327/327 [==============================] - 5s 15ms/step - loss: 0.3910 - accuracy: 0.8424 - val_loss: 3.0910 - val_accuracy: 0.1675\n",
      "Epoch 20/800000\n",
      "327/327 [==============================] - 5s 14ms/step - loss: 0.3802 - accuracy: 0.8461 - val_loss: 3.0630 - val_accuracy: 0.1675\n",
      "Epoch 21/800000\n",
      "327/327 [==============================] - 5s 14ms/step - loss: 0.3781 - accuracy: 0.8491 - val_loss: 2.5700 - val_accuracy: 0.1528\n",
      "Epoch 22/800000\n",
      "327/327 [==============================] - 5s 14ms/step - loss: 0.3676 - accuracy: 0.8550 - val_loss: 2.5949 - val_accuracy: 0.1687\n",
      "Epoch 23/800000\n",
      "327/327 [==============================] - 5s 14ms/step - loss: 0.3614 - accuracy: 0.8547 - val_loss: 2.5800 - val_accuracy: 0.1589\n",
      "Epoch 24/800000\n",
      "327/327 [==============================] - 5s 14ms/step - loss: 0.3508 - accuracy: 0.8602 - val_loss: 2.7438 - val_accuracy: 0.1785\n",
      "Epoch 25/800000\n",
      "327/327 [==============================] - 5s 14ms/step - loss: 0.3450 - accuracy: 0.8681 - val_loss: 3.0941 - val_accuracy: 0.1724\n",
      "Epoch 26/800000\n",
      "327/327 [==============================] - 5s 15ms/step - loss: 0.3393 - accuracy: 0.8712 - val_loss: 2.4733 - val_accuracy: 0.1687\n",
      "Epoch 27/800000\n",
      "327/327 [==============================] - 5s 14ms/step - loss: 0.3317 - accuracy: 0.8696 - val_loss: 2.7331 - val_accuracy: 0.1785\n",
      "Epoch 28/800000\n",
      "327/327 [==============================] - 5s 14ms/step - loss: 0.3234 - accuracy: 0.8752 - val_loss: 2.4799 - val_accuracy: 0.1797\n",
      "Epoch 29/800000\n",
      "327/327 [==============================] - 5s 14ms/step - loss: 0.3207 - accuracy: 0.8736 - val_loss: 2.8328 - val_accuracy: 0.1699\n",
      "Epoch 30/800000\n",
      "327/327 [==============================] - 5s 15ms/step - loss: 0.3132 - accuracy: 0.8846 - val_loss: 2.0483 - val_accuracy: 0.1699\n",
      "Epoch 31/800000\n",
      "327/327 [==============================] - 5s 14ms/step - loss: 0.3048 - accuracy: 0.8849 - val_loss: 2.4717 - val_accuracy: 0.1394\n",
      "Epoch 32/800000\n",
      "327/327 [==============================] - 5s 15ms/step - loss: 0.2975 - accuracy: 0.8880 - val_loss: 2.3205 - val_accuracy: 0.1736\n",
      "Epoch 33/800000\n",
      "327/327 [==============================] - 5s 15ms/step - loss: 0.2932 - accuracy: 0.8886 - val_loss: 2.4167 - val_accuracy: 0.1724\n",
      "Epoch 34/800000\n",
      "327/327 [==============================] - 5s 14ms/step - loss: 0.2873 - accuracy: 0.8920 - val_loss: 2.6541 - val_accuracy: 0.1834\n",
      "Epoch 35/800000\n",
      "327/327 [==============================] - 5s 14ms/step - loss: 0.2734 - accuracy: 0.9006 - val_loss: 2.1832 - val_accuracy: 0.1785\n",
      "Epoch 36/800000\n",
      "327/327 [==============================] - 5s 14ms/step - loss: 0.2760 - accuracy: 0.8947 - val_loss: 2.2318 - val_accuracy: 0.1663\n",
      "Epoch 37/800000\n",
      "327/327 [==============================] - 5s 14ms/step - loss: 0.2665 - accuracy: 0.8972 - val_loss: 2.6891 - val_accuracy: 0.1760\n",
      "Epoch 38/800000\n",
      "327/327 [==============================] - 5s 14ms/step - loss: 0.2617 - accuracy: 0.8999 - val_loss: 1.9871 - val_accuracy: 0.1724\n",
      "Epoch 39/800000\n",
      "327/327 [==============================] - 5s 14ms/step - loss: 0.2578 - accuracy: 0.9051 - val_loss: 1.9953 - val_accuracy: 0.1907\n",
      "Epoch 40/800000\n",
      "327/327 [==============================] - 5s 14ms/step - loss: 0.2476 - accuracy: 0.9067 - val_loss: 2.8884 - val_accuracy: 0.1699\n",
      "Epoch 41/800000\n",
      "327/327 [==============================] - 5s 14ms/step - loss: 0.2514 - accuracy: 0.9051 - val_loss: 2.1483 - val_accuracy: 0.1711\n",
      "Epoch 42/800000\n",
      "327/327 [==============================] - 5s 14ms/step - loss: 0.2451 - accuracy: 0.9113 - val_loss: 2.2993 - val_accuracy: 0.1968\n",
      "Epoch 43/800000\n",
      "327/327 [==============================] - 5s 14ms/step - loss: 0.2438 - accuracy: 0.9058 - val_loss: 3.5438 - val_accuracy: 0.1993\n",
      "Epoch 44/800000\n",
      "327/327 [==============================] - 5s 14ms/step - loss: 0.2332 - accuracy: 0.9110 - val_loss: 1.6273 - val_accuracy: 0.2604\n",
      "Epoch 45/800000\n",
      "327/327 [==============================] - 5s 14ms/step - loss: 0.2286 - accuracy: 0.9122 - val_loss: 1.8050 - val_accuracy: 0.2225\n",
      "Epoch 46/800000\n",
      "327/327 [==============================] - 5s 14ms/step - loss: 0.2261 - accuracy: 0.9162 - val_loss: 1.4743 - val_accuracy: 0.2946\n",
      "Epoch 47/800000\n",
      "327/327 [==============================] - 5s 14ms/step - loss: 0.2264 - accuracy: 0.9201 - val_loss: 1.7409 - val_accuracy: 0.2225\n",
      "Epoch 48/800000\n",
      "327/327 [==============================] - 5s 14ms/step - loss: 0.2218 - accuracy: 0.9186 - val_loss: 1.9348 - val_accuracy: 0.2751\n",
      "Epoch 49/800000\n",
      "327/327 [==============================] - 4s 13ms/step - loss: 0.2137 - accuracy: 0.9247 - val_loss: 1.5344 - val_accuracy: 0.3619\n",
      "Epoch 50/800000\n",
      "327/327 [==============================] - 4s 13ms/step - loss: 0.2125 - accuracy: 0.9256 - val_loss: 2.0936 - val_accuracy: 0.2506\n",
      "Epoch 51/800000\n",
      "327/327 [==============================] - 4s 13ms/step - loss: 0.2088 - accuracy: 0.9256 - val_loss: 1.2605 - val_accuracy: 0.3936\n",
      "Epoch 52/800000\n",
      "327/327 [==============================] - 4s 13ms/step - loss: 0.2028 - accuracy: 0.9293 - val_loss: 1.6780 - val_accuracy: 0.3435\n",
      "Epoch 53/800000\n",
      "327/327 [==============================] - 4s 13ms/step - loss: 0.2064 - accuracy: 0.9284 - val_loss: 1.4615 - val_accuracy: 0.4401\n",
      "Epoch 54/800000\n",
      "327/327 [==============================] - 5s 14ms/step - loss: 0.2038 - accuracy: 0.9250 - val_loss: 1.7548 - val_accuracy: 0.3753\n",
      "Epoch 55/800000\n",
      "327/327 [==============================] - 4s 14ms/step - loss: 0.1877 - accuracy: 0.9312 - val_loss: 1.1171 - val_accuracy: 0.5318\n",
      "Epoch 56/800000\n"
     ]
    },
    {
     "name": "stdout",
     "output_type": "stream",
     "text": [
      "327/327 [==============================] - 4s 13ms/step - loss: 0.1980 - accuracy: 0.9275 - val_loss: 1.1308 - val_accuracy: 0.5416\n",
      "Epoch 57/800000\n",
      "327/327 [==============================] - 4s 13ms/step - loss: 0.1842 - accuracy: 0.9308 - val_loss: 1.2595 - val_accuracy: 0.4425\n",
      "Epoch 58/800000\n",
      "327/327 [==============================] - 4s 13ms/step - loss: 0.1845 - accuracy: 0.9351 - val_loss: 0.9525 - val_accuracy: 0.6577\n",
      "Epoch 59/800000\n",
      "327/327 [==============================] - 4s 13ms/step - loss: 0.1788 - accuracy: 0.9351 - val_loss: 1.4850 - val_accuracy: 0.4034\n",
      "Epoch 60/800000\n",
      "327/327 [==============================] - 4s 13ms/step - loss: 0.1608 - accuracy: 0.9406 - val_loss: 2.7222 - val_accuracy: 0.2604\n",
      "Epoch 61/800000\n",
      "327/327 [==============================] - 4s 13ms/step - loss: 0.1818 - accuracy: 0.9400 - val_loss: 1.4654 - val_accuracy: 0.4022\n",
      "Epoch 62/800000\n",
      "327/327 [==============================] - 4s 13ms/step - loss: 0.1702 - accuracy: 0.9440 - val_loss: 1.6065 - val_accuracy: 0.4193\n",
      "Epoch 63/800000\n",
      "327/327 [==============================] - 4s 13ms/step - loss: 0.1782 - accuracy: 0.9357 - val_loss: 0.9469 - val_accuracy: 0.6394\n",
      "Epoch 64/800000\n",
      "327/327 [==============================] - 4s 13ms/step - loss: 0.1600 - accuracy: 0.9400 - val_loss: 1.4405 - val_accuracy: 0.4866\n",
      "Epoch 65/800000\n",
      "327/327 [==============================] - 4s 13ms/step - loss: 0.1525 - accuracy: 0.9458 - val_loss: 1.7990 - val_accuracy: 0.4878\n",
      "Epoch 66/800000\n",
      "327/327 [==============================] - 4s 13ms/step - loss: 0.1593 - accuracy: 0.9434 - val_loss: 1.4093 - val_accuracy: 0.4841\n",
      "Epoch 67/800000\n",
      "327/327 [==============================] - 4s 14ms/step - loss: 0.1634 - accuracy: 0.9412 - val_loss: 1.2772 - val_accuracy: 0.5049\n",
      "Epoch 68/800000\n",
      "327/327 [==============================] - 4s 13ms/step - loss: 0.1502 - accuracy: 0.9471 - val_loss: 1.3923 - val_accuracy: 0.5024\n",
      "Epoch 69/800000\n",
      "327/327 [==============================] - 4s 13ms/step - loss: 0.1460 - accuracy: 0.9489 - val_loss: 1.6401 - val_accuracy: 0.4853\n",
      "Epoch 70/800000\n",
      "327/327 [==============================] - 4s 14ms/step - loss: 0.1501 - accuracy: 0.9446 - val_loss: 0.8039 - val_accuracy: 0.6956\n",
      "Epoch 71/800000\n",
      "327/327 [==============================] - 4s 13ms/step - loss: 0.1426 - accuracy: 0.9495 - val_loss: 1.3417 - val_accuracy: 0.6528\n",
      "Epoch 72/800000\n",
      "327/327 [==============================] - 4s 13ms/step - loss: 0.1477 - accuracy: 0.9526 - val_loss: 3.4911 - val_accuracy: 0.4279\n",
      "Epoch 73/800000\n",
      "327/327 [==============================] - 4s 13ms/step - loss: 0.1463 - accuracy: 0.9492 - val_loss: 1.3964 - val_accuracy: 0.6076\n",
      "Epoch 74/800000\n",
      "327/327 [==============================] - 4s 13ms/step - loss: 0.1461 - accuracy: 0.9523 - val_loss: 1.4039 - val_accuracy: 0.5611\n",
      "Epoch 75/800000\n",
      "327/327 [==============================] - 4s 13ms/step - loss: 0.1460 - accuracy: 0.9507 - val_loss: 0.7943 - val_accuracy: 0.7922\n",
      "Epoch 76/800000\n",
      "327/327 [==============================] - 4s 13ms/step - loss: 0.1434 - accuracy: 0.9474 - val_loss: 1.3107 - val_accuracy: 0.5293\n",
      "Epoch 77/800000\n",
      "327/327 [==============================] - 4s 13ms/step - loss: 0.1318 - accuracy: 0.9538 - val_loss: 1.0380 - val_accuracy: 0.6406\n",
      "Epoch 78/800000\n",
      "327/327 [==============================] - 4s 13ms/step - loss: 0.1336 - accuracy: 0.9535 - val_loss: 1.5163 - val_accuracy: 0.5966\n",
      "Epoch 79/800000\n",
      "327/327 [==============================] - 4s 13ms/step - loss: 0.1341 - accuracy: 0.9562 - val_loss: 1.3846 - val_accuracy: 0.5465\n",
      "Epoch 80/800000\n",
      "327/327 [==============================] - 4s 13ms/step - loss: 0.1359 - accuracy: 0.9449 - val_loss: 1.0832 - val_accuracy: 0.6540\n",
      "Epoch 81/800000\n",
      "327/327 [==============================] - 4s 13ms/step - loss: 0.1419 - accuracy: 0.9529 - val_loss: 1.3472 - val_accuracy: 0.5379\n",
      "Epoch 82/800000\n",
      "327/327 [==============================] - 4s 13ms/step - loss: 0.1262 - accuracy: 0.9581 - val_loss: 1.9704 - val_accuracy: 0.3814\n",
      "Epoch 83/800000\n",
      "327/327 [==============================] - 4s 13ms/step - loss: 0.1426 - accuracy: 0.9535 - val_loss: 1.3443 - val_accuracy: 0.5599\n",
      "Epoch 84/800000\n",
      "327/327 [==============================] - 4s 13ms/step - loss: 0.1366 - accuracy: 0.9544 - val_loss: 1.2529 - val_accuracy: 0.5098\n",
      "Epoch 85/800000\n",
      "327/327 [==============================] - 4s 13ms/step - loss: 0.1227 - accuracy: 0.9572 - val_loss: 1.8059 - val_accuracy: 0.6601\n"
     ]
    }
   ],
   "source": [
    "#imply learning\n",
    "\n",
    "import keras\n",
    "from keras.callbacks import EarlyStopping\n",
    "\n",
    "# early stopping callback\n",
    "# This callback will stop the training when there is no improvement in  \n",
    "# the validation loss for 10 consecutive epochs.  \n",
    "es = keras.callbacks.EarlyStopping(monitor='val_loss', \n",
    "                                   mode='min',\n",
    "                                   patience=10, \n",
    "                                   restore_best_weights=True) # important - otherwise you just return the last weigths...\n",
    "\n",
    "# now we just update our model fit call\n",
    "history = model.fit(X,\n",
    "                    dummy_y,\n",
    "                    callbacks=[es],\n",
    "                    epochs=800000, # you can set this to a big number!\n",
    "                    batch_size=10,\n",
    "                    shuffle=True,\n",
    "                    validation_split=0.2,\n",
    "                    verbose=1)"
   ]
  },
  {
   "cell_type": "code",
   "execution_count": 19,
   "id": "05e8ebe2",
   "metadata": {},
   "outputs": [
    {
     "data": {
      "image/png": "[encoded data removed]",
      "text/plain": [
       "<Figure size 640x480 with 1 Axes>"
      ]
     },
     "metadata": {},
     "output_type": "display_data"
    }
   ],
   "source": [
    "#check the train and test\n",
    "\n",
    "import matplotlib.pyplot as plt\n",
    "\n",
    "history_dict = history.history\n",
    "\n",
    "# learning curve\n",
    "# accuracy\n",
    "acc = history_dict['accuracy']\n",
    "val_acc = history_dict['val_accuracy']\n",
    "\n",
    "# loss\n",
    "loss = history_dict['loss']\n",
    "val_loss = history_dict['val_loss']\n",
    "\n",
    "# range of X (no. of epochs)\n",
    "epochs = range(1, len(acc) + 1)\n",
    "\n",
    "# plot\n",
    "# \"r\" is for \"solid red line\"\n",
    "plt.plot(epochs, acc, 'r', label='Training accuracy')\n",
    "# b is for \"solid blue line\"\n",
    "plt.plot(epochs, val_acc, 'b', label='Validation accuracy')\n",
    "plt.title('Training and validation accuracy')\n",
    "plt.xlabel('Epochs')\n",
    "plt.ylabel('Accuracy')\n",
    "plt.legend()\n",
    "\n",
    "plt.show()"
   ]
  },
  {
   "cell_type": "code",
   "execution_count": 20,
   "id": "1bd09ebd",
   "metadata": {},
   "outputs": [
    {
     "name": "stdout",
     "output_type": "stream",
     "text": [
      "\r",
      "  1/128 [..............................] - ETA: 33s"
     ]
    },
    {
     "name": "stderr",
     "output_type": "stream",
     "text": [
      "2022-11-16 22:23:36.138837: I tensorflow/core/grappler/optimizers/custom_graph_optimizer_registry.cc:114] Plugin optimizer for device_type GPU is enabled.\n"
     ]
    },
    {
     "name": "stdout",
     "output_type": "stream",
     "text": [
      "128/128 [==============================] - 1s 2ms/step\n",
      "[8.7100616e-10 1.4508478e-10 9.9999988e-01 6.3157621e-08 1.2502154e-15\n",
      " 0.0000000e+00]\n",
      "0.99999994\n",
      "              precision    recall  f1-score   support\n",
      "\n",
      "           0       0.99      1.00      1.00       681\n",
      "           1       0.99      0.99      0.99       681\n",
      "           2       0.94      0.90      0.92       681\n",
      "           3       0.77      0.93      0.84       681\n",
      "           4       0.93      0.96      0.94       681\n",
      "           5       0.99      0.76      0.86       681\n",
      "\n",
      "    accuracy                           0.93      4086\n",
      "   macro avg       0.93      0.93      0.93      4086\n",
      "weighted avg       0.93      0.93      0.93      4086\n",
      "\n"
     ]
    }
   ],
   "source": [
    "#detail info, need to be studied\n",
    "\n",
    "from sklearn.metrics import confusion_matrix\n",
    "from sklearn.metrics import classification_report\n",
    "\n",
    "preds = model.predict(X) # see how the model did!\n",
    "print(preds[0]) # i'm spreading that prediction across three nodes and they sum to 1\n",
    "print(np.sum(preds[0])) # sum it up! Should be 1\n",
    "## [9.9999988e-01 1.3509347e-07 6.7064638e-16]\n",
    "## 1.0\n",
    "\n",
    "# Almost a perfect prediction\n",
    "# actual is left, predicted is top\n",
    "# names can be found by inspecting Y\n",
    "matrix = confusion_matrix(dummy_y.argmax(axis=1), preds.argmax(axis=1))\n",
    "matrix\n",
    "## array([[50,  0,  0],\n",
    "##        [ 0, 46,  4],\n",
    "##        [ 0,  1, 49]])\n",
    "\n",
    "\n",
    "# more detail on how well things were predicted\n",
    "print(classification_report(dummy_y.argmax(axis=1), preds.argmax(axis=1)))"
   ]
  },
  {
   "cell_type": "code",
   "execution_count": null,
   "id": "fa94cc96",
   "metadata": {},
   "outputs": [],
   "source": []
  }
 ],
 "metadata": {
  "kernelspec": {
   "display_name": "Python 3 (ipykernel)",
   "language": "python",
   "name": "python3"
  },
  "language_info": {
   "codemirror_mode": {
    "name": "ipython",
    "version": 3
   },
   "file_extension": ".py",
   "mimetype": "text/x-python",
   "name": "python",
   "nbconvert_exporter": "python",
   "pygments_lexer": "ipython3",
   "version": "3.8.13"
  }
 },
 "nbformat": 4,
 "nbformat_minor": 5
}
