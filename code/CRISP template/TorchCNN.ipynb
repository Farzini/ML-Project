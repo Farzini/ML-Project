{
  "cells": [
    {
      "cell_type": "markdown",
      "metadata": {
        "colab_type": "text",
        "id": "view-in-github"
      },
      "source": [
        "<a href=\"https://colab.research.google.com/github/patiegm/Datasci_Resources/blob/master/TorchCNN.ipynb\" target=\"_parent\"><img src=\"https://colab.research.google.com/assets/colab-badge.svg\" alt=\"Open In Colab\"/></a>"
      ]
    },
    {
      "cell_type": "markdown",
      "metadata": {
        "colab_type": "text",
        "id": "SojU2Of-FtUL"
      },
      "source": [
        "## Downloading and understanding data\n",
        "\n",
        "CIFAR10 is a dataset of images: 10 classes, 50000 images total. The classes are: airplane\n",
        "automobile\n",
        "bird\n",
        "cat\n",
        "deer\n",
        "dog\n",
        "frog\n",
        "horse\n",
        "ship\n",
        "truck"
      ]
    },
    {
      "cell_type": "code",
      "execution_count": null,
      "metadata": {
        "colab": {},
        "colab_type": "code",
        "id": "mX46C3ryFtT6"
      },
      "outputs": [],
      "source": [
        "import torch.nn as nn\n",
        "import torch\n",
        "import torchvision\n",
        "import torchvision.transforms as transforms\n",
        "from torch.utils.data import DataLoader\n",
        "\n",
        "CUDA_AVAILABLE = torch.cuda.is_available()"
      ]
    },
    {
      "cell_type": "code",
      "execution_count": null,
      "metadata": {
        "colab": {
          "base_uri": "https://localhost:8080/",
          "height": 34
        },
        "colab_type": "code",
        "id": "l61c6ly4m6z6",
        "outputId": "4be953d6-6a4b-4157-c468-a0dab11b85eb"
      },
      "outputs": [
        {
          "data": {
            "text/plain": [
              "True"
            ]
          },
          "execution_count": 2,
          "metadata": {
            "tags": []
          },
          "output_type": "execute_result"
        }
      ],
      "source": [
        "# if False, you're using CPU\n",
        "# if True, you're on GPU\n",
        "\n",
        "CUDA_AVAILABLE"
      ]
    },
    {
      "cell_type": "code",
      "execution_count": null,
      "metadata": {
        "colab": {
          "base_uri": "https://localhost:8080/",
          "height": 72
        },
        "colab_type": "code",
        "id": "Y8rIv14jFtUO",
        "outputId": "a09186e3-671c-4cb5-8c9e-16b504d4f725"
      },
      "outputs": [
        {
          "name": "stderr",
          "output_type": "stream",
          "text": [
            "\r0it [00:00, ?it/s]"
          ]
        },
        {
          "name": "stdout",
          "output_type": "stream",
          "text": [
            "Downloading https://www.cs.toronto.edu/~kriz/cifar-10-python.tar.gz to ./cifar-10-python.tar.gz\n"
          ]
        },
        {
          "name": "stderr",
          "output_type": "stream",
          "text": [
            "100%|█████████▉| 170311680/170498071 [00:43<00:00, 2427262.15it/s]"
          ]
        }
      ],
      "source": [
        "# Define transformations that will need to be\n",
        "# performed on data upon loading\n",
        "transform = transforms.Compose(\n",
        "    [transforms.ToTensor(),  # turn into Torch's data format\n",
        "     transforms.Normalize((0.5, 0.5, 0.5),\n",
        "                          (0.5, 0.5, 0.5))])  # normalise to a given mean\n",
        "\n",
        "\n",
        "# Download and import data\n",
        "train_data = torchvision.datasets.CIFAR10(root=\"./\", transform=transform, download=True)\n",
        "test_data = torchvision.datasets.CIFAR10(root=\"./\", train=False, transform=transform)\n",
        "\n",
        "# prepare objects that feed the data to the neural network\n",
        "train_loader = DataLoader(train_data, batch_size=128, shuffle=True, num_workers=4)\n",
        "test_loader = DataLoader(test_data, batch_size=1, shuffle=True, num_workers=4)"
      ]
    },
    {
      "cell_type": "code",
      "execution_count": null,
      "metadata": {
        "colab": {
          "base_uri": "https://localhost:8080/",
          "height": 34
        },
        "colab_type": "code",
        "id": "_4N17ZjXFtUX",
        "outputId": "64d2fe01-3a8c-45d8-e6de-fef7c180d810"
      },
      "outputs": [
        {
          "data": {
            "text/plain": [
              "(50000, 32, 32, 3)"
            ]
          },
          "execution_count": 4,
          "metadata": {
            "tags": []
          },
          "output_type": "execute_result"
        }
      ],
      "source": [
        "train_data.data.shape\n",
        "# 50000 images, 32x32, 3 color channels"
      ]
    },
    {
      "cell_type": "code",
      "execution_count": null,
      "metadata": {
        "colab": {
          "base_uri": "https://localhost:8080/",
          "height": 286
        },
        "colab_type": "code",
        "id": "28PKAYoGFtUn",
        "outputId": "df49f5f2-e744-4be3-f14e-20e8ea2b64cd"
      },
      "outputs": [
        {
          "data": {
            "text/plain": [
              "<matplotlib.image.AxesImage at 0x7f08073e2f60>"
            ]
          },
          "execution_count": 6,
          "metadata": {
            "tags": []
          },
          "output_type": "execute_result"
        },
        {
          "data": {
            "image/png": "[encoded data removed]",
            "text/plain": [
              "<Figure size 432x288 with 1 Axes>"
            ]
          },
          "metadata": {
            "tags": []
          },
          "output_type": "display_data"
        }
      ],
      "source": [
        "import matplotlib.pyplot as plt\n",
        "%matplotlib inline\n",
        "\n",
        "# example image\n",
        "plt.imshow(train_data.data[1])"
      ]
    },
    {
      "cell_type": "code",
      "execution_count": null,
      "metadata": {
        "colab": {
          "base_uri": "https://localhost:8080/",
          "height": 34
        },
        "colab_type": "code",
        "id": "DEkDkEtugBnc",
        "outputId": "2e1dedb5-56c4-4671-d3bd-3457aa1d770b"
      },
      "outputs": [
        {
          "name": "stdout",
          "output_type": "stream",
          "text": [
            "['airplane', 'automobile', 'bird', 'cat', 'deer', 'dog', 'frog', 'horse', 'ship', 'truck']\n"
          ]
        }
      ],
      "source": [
        "print(train_data.classes)\n",
        "n_classes = len(train_data.classes)"
      ]
    },
    {
      "cell_type": "markdown",
      "metadata": {
        "colab_type": "text",
        "id": "9RCLXaw6FtUx"
      },
      "source": [
        "## Building a neural network with Torch"
      ]
    },
    {
      "cell_type": "code",
      "execution_count": null,
      "metadata": {
        "colab": {},
        "colab_type": "code",
        "id": "hlwh_gaeFtUy"
      },
      "outputs": [],
      "source": [
        "# define a neural network as a sequence of layers\n",
        "# (more complicated cases can exist)\n",
        "\n",
        "model = nn.Sequential(\n",
        "    # a 3 by 3 convolution layer with 16 filters\n",
        "    nn.Conv2d(in_channels=3, out_channels=16, kernel_size=3), \n",
        "    # nonlinearity: rectified linear unit\n",
        "    nn.ReLU(),  \n",
        "    # max pooling layer\n",
        "    nn.MaxPool2d(kernel_size=2),\n",
        "    \n",
        "    nn.Conv2d(in_channels=16, out_channels=32, kernel_size=3), \n",
        "    nn.ReLU(),  \n",
        "    nn.MaxPool2d(kernel_size=2),\n",
        "    \n",
        "    nn.Conv2d(in_channels=32, out_channels=32, kernel_size=3), \n",
        "    nn.ReLU(),  \n",
        "    nn.MaxPool2d(kernel_size=2),\n",
        "    \n",
        "    nn.Conv2d(in_channels=32, out_channels=n_classes, kernel_size=2, padding=0)\n",
        "    )\n",
        "\n",
        "# transfer the model to the GPU (general purpose graphics card)\n",
        "if CUDA_AVAILABLE:\n",
        "    model.cuda()"
      ]
    },
    {
      "cell_type": "code",
      "execution_count": null,
      "metadata": {
        "colab": {
          "base_uri": "https://localhost:8080/",
          "height": 364
        },
        "colab_type": "code",
        "id": "YqyJjka4FtU6",
        "outputId": "43abc82b-217e-4431-f249-896c400ed36d"
      },
      "outputs": [
        {
          "name": "stdout",
          "output_type": "stream",
          "text": [
            "0.006926430621147156\n",
            "0.006858773647546768\n",
            "0.006780646344423294\n",
            "0.006693394029140472\n",
            "0.006642882673740387\n",
            "0.006581364858150482\n",
            "0.006538210439682007\n",
            "0.006504810341596603\n",
            "0.006432474389076233\n",
            "0.006375634610652924\n",
            "0.006321433429718018\n",
            "0.006237277069091797\n",
            "0.006223052281141281\n",
            "0.006194546127319336\n",
            "0.006158451741933822\n",
            "0.006115234926342964\n",
            "0.0060569893884658815\n",
            "0.0060410363566875454\n",
            "0.00599142804980278\n",
            "0.005971460539102555\n"
          ]
        }
      ],
      "source": [
        "from torch.optim import Adam\n",
        "from torch.autograd import Variable\n",
        "\n",
        "# define the \"optimizer\", which updates the parameters based on the gradients\n",
        "optimizer = Adam(model.parameters(), lr=0.001, weight_decay=0.0001)\n",
        "loss_fn = nn.CrossEntropyLoss()\n",
        "\n",
        "\n",
        "# start the training\n",
        "train_losses = []\n",
        "for i in range(20):\n",
        "    train_loss = 0.0\n",
        "\n",
        "    for (images, labels) in train_loader:\n",
        "        # transfer variables to GPU\n",
        "        if CUDA_AVAILABLE:\n",
        "            images = Variable(images.cuda())\n",
        "            labels = Variable(labels.cuda())\n",
        "\n",
        "        # generate the network's output\n",
        "        predictions = model(images).squeeze()\n",
        "\n",
        "        # compare the output with the training labels\n",
        "        error = loss_fn(predictions, labels)\n",
        "        \n",
        "        # store the error value (for evaluation)\n",
        "        train_loss += error.cpu().data.numpy()\n",
        "\n",
        "        # reset the gradients\n",
        "        optimizer.zero_grad()\n",
        "        \n",
        "        # do backpropagation\n",
        "        error.backward()\n",
        "\n",
        "        # update the parameters based on the gradients\n",
        "        optimizer.step()\n",
        "        \n",
        "    train_loss = train_loss / 50000\n",
        "    print(train_loss)\n",
        "    train_losses.append(train_loss)"
      ]
    },
    {
      "cell_type": "code",
      "execution_count": null,
      "metadata": {
        "colab": {
          "base_uri": "https://localhost:8080/",
          "height": 300
        },
        "colab_type": "code",
        "id": "Fyo-y9xOFtVI",
        "outputId": "1eaa9055-8595-4388-f18b-6148b1b0a503"
      },
      "outputs": [
        {
          "data": {
            "text/plain": [
              "Text(0.5, 0, 'Time (training epochs)')"
            ]
          },
          "execution_count": 13,
          "metadata": {
            "tags": []
          },
          "output_type": "execute_result"
        },
        {
          "data": {
            "image/png": "[encoded data removed]",
            "text/plain": [
              "<Figure size 432x288 with 1 Axes>"
            ]
          },
          "metadata": {
            "tags": []
          },
          "output_type": "display_data"
        }
      ],
      "source": [
        "# plot how the error evolved in time\n",
        "plt.plot(train_losses)\n",
        "plt.ylabel(\"Error\")\n",
        "plt.xlabel(\"Time (training epochs)\")"
      ]
    },
    {
      "cell_type": "code",
      "execution_count": null,
      "metadata": {
        "colab": {
          "base_uri": "https://localhost:8080/",
          "height": 388
        },
        "colab_type": "code",
        "id": "xGHGHYGAFtVT",
        "outputId": "abeca643-066a-40af-bcdd-3368e5ffc2c7"
      },
      "outputs": [
        {
          "name": "stdout",
          "output_type": "stream",
          "text": [
            "airplane \t 2.3213038\n",
            "automobile \t 3.7458932\n",
            "bird \t -4.1568313\n",
            "cat \t -4.381301\n",
            "deer \t -2.091555\n",
            "dog \t -6.824186\n",
            "frog \t -5.79365\n",
            "horse \t -5.4370117\n",
            "ship \t 2.0101748\n",
            "truck \t 0.18744484\n"
          ]
        },
        {
          "data": {
            "image/png": "[encoded data removed]",
            "text/plain": [
              "<Figure size 216x216 with 1 Axes>"
            ]
          },
          "metadata": {
            "tags": []
          },
          "output_type": "display_data"
        }
      ],
      "source": [
        "# testing\n",
        "\n",
        "for i, (images, labels) in enumerate(test_loader):\n",
        "    # transfer variables to GPU\n",
        "    if CUDA_AVAILABLE:\n",
        "        images = Variable(images.cuda())\n",
        "        labels = Variable(labels.cuda())\n",
        "    \n",
        "    # plot the image\n",
        "    plt.figure(figsize=(3,3))\n",
        "    image = (images.squeeze().cpu().transpose(0,2).transpose(0,1) + 1.0)/2.\n",
        "    plt.imshow(image)\n",
        "\n",
        "    # forward pass (run image through the model)\n",
        "    outputs = model(images)\n",
        "    outputs_npy = outputs.squeeze().cpu().detach().numpy()\n",
        "    for i in range(n_classes):\n",
        "        print(test_data.classes[i], '\\t', outputs_npy[i])\n",
        "    \n",
        "\n",
        "    break"
      ]
    },
    {
      "cell_type": "code",
      "execution_count": null,
      "metadata": {
        "colab": {
          "base_uri": "https://localhost:8080/",
          "height": 1277
        },
        "colab_type": "code",
        "id": "rLhur4ZGNSDv",
        "outputId": "7fbff23a-87e4-4e9c-b830-e1941c8936c0"
      },
      "outputs": [
        {
          "data": {
            "image/png": "[encoded data removed]",
            "text/plain": [
              "<Figure size 216x216 with 1 Axes>"
            ]
          },
          "metadata": {
            "tags": []
          },
          "output_type": "display_data"
        },
        {
          "data": {
            "image/png": "[encoded data removed]",
            "text/plain": [
              "<Figure size 216x216 with 1 Axes>"
            ]
          },
          "metadata": {
            "tags": []
          },
          "output_type": "display_data"
        },
        {
          "data": {
            "image/png": "[encoded data removed]",
            "text/plain": [
              "<Figure size 216x216 with 1 Axes>"
            ]
          },
          "metadata": {
            "tags": []
          },
          "output_type": "display_data"
        },
        {
          "data": {
            "image/png": "[encoded data removed]",
            "text/plain": [
              "<Figure size 216x216 with 1 Axes>"
            ]
          },
          "metadata": {
            "tags": []
          },
          "output_type": "display_data"
        },
        {
          "data": {
            "image/png": "[encoded data removed]",
            "text/plain": [
              "<Figure size 216x216 with 1 Axes>"
            ]
          },
          "metadata": {
            "tags": []
          },
          "output_type": "display_data"
        },
        {
          "data": {
            "image/png": "[encoded data removed]",
            "text/plain": [
              "<Figure size 216x216 with 1 Axes>"
            ]
          },
          "metadata": {
            "tags": []
          },
          "output_type": "display_data"
        }
      ],
      "source": [
        "# testing\n",
        "\n",
        "for i, (images, labels) in enumerate(test_loader):\n",
        "    # transfer variables to GPU\n",
        "    if CUDA_AVAILABLE:\n",
        "        images = Variable(images.cuda())\n",
        "        labels = Variable(labels.cuda())\n",
        "\n",
        "    # forward pass (run image through the model)\n",
        "    outputs = model(images)\n",
        "    \n",
        "    # look for the class that has the highest probability\n",
        "    _,prediction = torch.max(outputs, 1)    \n",
        "    label = labels.cpu().numpy().squeeze()\n",
        "    \n",
        "    # plot\n",
        "    plt.figure(figsize=(3,3))\n",
        "    image = (images.squeeze().cpu().transpose(0,2).transpose(0,1) + 1.0)/2.\n",
        "    plt.imshow(image)\n",
        "    prediction = prediction.cpu().numpy().squeeze()\n",
        "    plt.title(f\"Predicted: {test_data.classes[prediction]}, Actual: {test_data.classes[label]}\")\n",
        "    \n",
        "    if i >= 5: break"
      ]
    },
    {
      "cell_type": "code",
      "execution_count": null,
      "metadata": {
        "colab": {},
        "colab_type": "code",
        "id": "aQcQA2EOjXcD"
      },
      "outputs": [],
      "source": []
    }
  ],
  "metadata": {
    "accelerator": "GPU",
    "colab": {
      "collapsed_sections": [],
      "include_colab_link": true,
      "name": "TorchCNN.ipynb",
      "provenance": [],
      "version": "0.3.2"
    },
    "kernelspec": {
      "display_name": "Python 3.11.0 64-bit",
      "language": "python",
      "name": "python3"
    },
    "language_info": {
      "name": "python",
      "version": "3.11.0"
    },
    "vscode": {
      "interpreter": {
        "hash": "e2de187e2ac018b1966125b89a9965710f2e135e980700bc64d2907d990fa000"
      }
    }
  },
  "nbformat": 4,
  "nbformat_minor": 0
}
